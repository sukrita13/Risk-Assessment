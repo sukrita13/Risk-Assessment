{
 "cells": [
  {
   "cell_type": "code",
   "execution_count": 1,
   "id": "c2d33b6f-f6ef-4c36-a3b6-6c191b62218d",
   "metadata": {},
   "outputs": [],
   "source": [
    "dataset_options = ['airfoil']\n",
    "muh_fun_options = ['linear_regression','polynomial_regression', 'knn', 'support_vector']\n",
    "threshold_type_options = ['absolute']\n",
    "tau_simulated_absolute = [7,10]\n",
    "ntrials = 100"
   ]
  },
  {
   "cell_type": "markdown",
   "id": "142db8a0-36a7-43b3-a393-dce425cd1a40",
   "metadata": {
    "tags": []
   },
   "source": [
    "### tau = 7"
   ]
  },
  {
   "cell_type": "code",
   "execution_count": 2,
   "id": "b01b9f30-4f42-466b-a9e7-1fd31a6cf552",
   "metadata": {},
   "outputs": [],
   "source": [
    "#run CP_regression_pipeline_real.py --dataset airfoil --muh_fun linear_regression --threshold_type absolute --tau 7 --ntrial 100"
   ]
  },
  {
   "cell_type": "code",
   "execution_count": 3,
   "id": "ae3bd777-ab22-4542-9012-f10b0e07be6b",
   "metadata": {},
   "outputs": [],
   "source": [
    "#run CP_regression_pipeline_real.py --dataset airfoil --muh_fun knn --threshold_type absolute --tau 7 --ntrial 100"
   ]
  },
  {
   "cell_type": "code",
   "execution_count": 1,
   "id": "f96540fb-abd6-414e-9bd9-4322a4be5ab8",
   "metadata": {},
   "outputs": [],
   "source": [
    "#run CP_regression_pipeline_real.py --dataset airfoil --muh_fun support_vector --threshold_type absolute --tau 7 --ntrial 100"
   ]
  },
  {
   "cell_type": "code",
   "execution_count": 5,
   "id": "559f6131-15f0-4434-8f0d-25841aa13283",
   "metadata": {},
   "outputs": [],
   "source": [
    "#run CP_regression_pipeline_real.py --dataset airfoil --muh_fun polynomial_regression --threshold_type absolute --tau 7 --ntrial 100"
   ]
  },
  {
   "cell_type": "markdown",
   "id": "bfc5f249-16e6-4b58-a833-0c40884d2056",
   "metadata": {},
   "source": [
    "### tau = 10"
   ]
  },
  {
   "cell_type": "code",
   "execution_count": 6,
   "id": "faa86596-5308-4053-9346-d85d45456310",
   "metadata": {},
   "outputs": [],
   "source": [
    "#run CP_regression_pipeline_real.py --dataset airfoil --muh_fun linear_regression --threshold_type absolute --tau 10 --ntrial 100"
   ]
  },
  {
   "cell_type": "code",
   "execution_count": 7,
   "id": "e61c4aa7-241f-4280-bf8a-69d619634163",
   "metadata": {},
   "outputs": [],
   "source": [
    "#run CP_regression_pipeline_real.py --dataset airfoil --muh_fun knn --threshold_type absolute --tau 10 --ntrial 100"
   ]
  },
  {
   "cell_type": "code",
   "execution_count": 8,
   "id": "255693c8-47f3-4f3a-9329-cb05182c431d",
   "metadata": {},
   "outputs": [],
   "source": [
    "#run CP_regression_pipeline_real.py --dataset airfoil --muh_fun support_vector --threshold_type absolute --tau 10 --ntrial 100"
   ]
  },
  {
   "cell_type": "code",
   "execution_count": 9,
   "id": "4ccd4e58-05e2-4003-9f9b-665f595cb80a",
   "metadata": {},
   "outputs": [],
   "source": [
    "#run CP_regression_pipeline_real.py --dataset airfoil --muh_fun polynomial_regression --threshold_type absolute --tau 10 --ntrial 100"
   ]
  }
 ],
 "metadata": {
  "kernelspec": {
   "display_name": "Python 3 (ipykernel)",
   "language": "python",
   "name": "python3"
  },
  "language_info": {
   "codemirror_mode": {
    "name": "ipython",
    "version": 3
   },
   "file_extension": ".py",
   "mimetype": "text/x-python",
   "name": "python",
   "nbconvert_exporter": "python",
   "pygments_lexer": "ipython3",
   "version": "3.9.12"
  }
 },
 "nbformat": 4,
 "nbformat_minor": 5
}
