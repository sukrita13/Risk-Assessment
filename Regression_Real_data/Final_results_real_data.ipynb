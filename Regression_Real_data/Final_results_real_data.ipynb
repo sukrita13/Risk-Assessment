{
 "cells": [
  {
   "cell_type": "code",
   "execution_count": 1,
   "id": "163af7b0-77eb-4ff5-af80-38974f6f0870",
   "metadata": {
    "colab": {
     "base_uri": "https://localhost:8080/",
     "height": 313
    },
    "executionInfo": {
     "elapsed": 7,
     "status": "error",
     "timestamp": 1691073538624,
     "user": {
      "displayName": "Sukrita Singh",
      "userId": "09286589043282735002"
     },
     "user_tz": -330
    },
    "id": "163af7b0-77eb-4ff5-af80-38974f6f0870",
    "outputId": "ceb8fb66-10ab-4d07-bea8-0f24e71bbccb"
   },
   "outputs": [],
   "source": [
    "from helper_fns import *"
   ]
  },
  {
   "cell_type": "code",
   "execution_count": 2,
   "id": "e6c45bc8-d133-4af9-90fa-3adf15474d38",
   "metadata": {
    "id": "e6c45bc8-d133-4af9-90fa-3adf15474d38"
   },
   "outputs": [],
   "source": [
    "import os,sys\n",
    "from IPython.display import Image"
   ]
  },
  {
   "cell_type": "code",
   "execution_count": 3,
   "id": "bcbec32e-6e94-419f-81cf-f42c34d5ac15",
   "metadata": {
    "id": "bcbec32e-6e94-419f-81cf-f42c34d5ac15"
   },
   "outputs": [],
   "source": [
    "cmap = ['#c3e2e3', '#7399b8','#424673', '#FFA500']\n",
    "cmap_paired = [ '#c3e2e3', '#95c0ce', '#7399b8', '#59709c', '#424673', '#27213f']"
   ]
  },
  {
   "cell_type": "code",
   "execution_count": 4,
   "id": "19d5f64e-7cdd-47cf-8799-1e1880cf0c3c",
   "metadata": {
    "id": "19d5f64e-7cdd-47cf-8799-1e1880cf0c3c"
   },
   "outputs": [],
   "source": [
    "dataset = 'airfoil'\n",
    "threshold_type = 'absolute'\n",
    "\n",
    "bias = 0\n",
    "ntrial = 100"
   ]
  },
  {
   "cell_type": "code",
   "execution_count": 5,
   "id": "3489f669-980d-4a49-bd7e-55155a40c21c",
   "metadata": {
    "id": "3489f669-980d-4a49-bd7e-55155a40c21c"
   },
   "outputs": [],
   "source": [
    "muh_fun_range = ['linear_regression','support_vector','knn','polynomial_regression']\n",
    "models = ['Linear Regression','SVR','KNN', 'Polynomial Regression']\n",
    "tau_range = [7,10]\n",
    "\n",
    "cp_types = ['Jacknife+', 'CV+','Split', 'Empirical']"
   ]
  },
  {
   "cell_type": "code",
   "execution_count": 6,
   "id": "e22d04dd-bcac-4726-84e3-91c39c9af50e",
   "metadata": {
    "id": "e22d04dd-bcac-4726-84e3-91c39c9af50e"
   },
   "outputs": [],
   "source": [
    "muh_fun = muh_fun_range[-1]\n",
    "model = models[-1]\n",
    "tau = tau_range[0]"
   ]
  },
  {
   "cell_type": "code",
   "execution_count": 7,
   "id": "42f36031-c2cc-4ab3-ad91-513950f55d38",
   "metadata": {
    "id": "42f36031-c2cc-4ab3-ad91-513950f55d38",
    "outputId": "d6274ae2-1351-4c31-9f23-2854309a4b67"
   },
   "outputs": [],
   "source": [
    "filler = '/'\n",
    "filler2 = '/tau_' + str(tau) + '/'"
   ]
  },
  {
   "cell_type": "markdown",
   "id": "2479b54f-7186-4487-b5cb-dbf80c83b3cb",
   "metadata": {
    "id": "2479b54f-7186-4487-b5cb-dbf80c83b3cb",
    "tags": []
   },
   "source": [
    "### Define variables and load in data"
   ]
  },
  {
   "cell_type": "code",
   "execution_count": 8,
   "id": "9594fa1e-997d-4817-b61b-f7ece0468553",
   "metadata": {
    "id": "9594fa1e-997d-4817-b61b-f7ece0468553"
   },
   "outputs": [],
   "source": [
    "airfoil = pd.read_csv('0.Datasets/airfoil/airfoil.txt', sep = '\\t', header=None)\n",
    "airfoil.columns = [\"Frequency\",\"Angle\",\"Chord\",\"Velocity\",\"Suction\",\"Sound\"]\n",
    "X_airfoil = airfoil.iloc[:, 0:5].values\n",
    "X_airfoil[:, 0] = np.log(X_airfoil[:, 0])\n",
    "X_airfoil[:, 4] = np.log(X_airfoil[:, 4])\n",
    "Y_airfoil = airfoil.iloc[:, 5].values\n",
    "n_airfoil = len(Y_airfoil)"
   ]
  },
  {
   "cell_type": "code",
   "execution_count": 9,
   "id": "67b394f2-1c62-43b5-a0fc-95df18d13f7a",
   "metadata": {
    "id": "67b394f2-1c62-43b5-a0fc-95df18d13f7a"
   },
   "outputs": [],
   "source": [
    "n_total = len(Y_airfoil)\n",
    "n_train = int(0.7*n_total)\n",
    "n_test = n_total - n_train"
   ]
  },
  {
   "cell_type": "code",
   "execution_count": 10,
   "id": "45acc703-f477-41b0-b85b-6c91c4993a43",
   "metadata": {
    "id": "45acc703-f477-41b0-b85b-6c91c4993a43"
   },
   "outputs": [],
   "source": [
    "X_train, Y_train, X_test, Y_test = generate_data_for_trials(1, n_train, n_total, eval('X_' + dataset), eval('Y_' + dataset), bias)\n",
    "\n",
    "X_train = X_train[0]\n",
    "Y_train = Y_train[0]\n",
    "X_test = X_test[0]\n",
    "Y_test = Y_test[0]"
   ]
  },
  {
   "cell_type": "code",
   "execution_count": 11,
   "id": "d260187b-11fb-4c21-9d49-dc6da339c576",
   "metadata": {
    "id": "d260187b-11fb-4c21-9d49-dc6da339c576"
   },
   "outputs": [],
   "source": [
    "predictions_by_model = [linear_regression(X_train, Y_train, X_test),\n",
    "                       support_vector(X_train, Y_train, X_test),\n",
    "                       knn(X_train, Y_train, X_test),\n",
    "                       polynomial_regression(X_train, Y_train, X_test)]"
   ]
  },
  {
   "cell_type": "markdown",
   "id": "8b2e7711-5a33-438b-9f3d-3fcfac7911b8",
   "metadata": {
    "id": "8b2e7711-5a33-438b-9f3d-3fcfac7911b8"
   },
   "source": [
    "### Graphing function"
   ]
  },
  {
   "cell_type": "code",
   "execution_count": 12,
   "id": "60313581-3669-4393-b6ae-43940f61ff44",
   "metadata": {
    "id": "60313581-3669-4393-b6ae-43940f61ff44",
    "outputId": "1cd42c2f-ff43-4f59-a131-5424b5c7150c"
   },
   "outputs": [],
   "source": [
    "#plot_interval_sequence(filler, 'airfoil', muh_fun, Y_test, predictions_by_model[-1], 'relative', 0.175)"
   ]
  },
  {
   "cell_type": "code",
   "execution_count": 13,
   "id": "efc9db1d-5608-4aa9-9e62-c0d483fd3ee8",
   "metadata": {
    "id": "efc9db1d-5608-4aa9-9e62-c0d483fd3ee8",
    "outputId": "c08a7582-2ef0-4956-ffae-c0fe4a354598"
   },
   "outputs": [],
   "source": [
    "#plot_interval_sequence(filler, 'airfoil', muh_fun, Y_test, predictions_by_model[-1], 'absolute', 10)"
   ]
  },
  {
   "cell_type": "markdown",
   "id": "93fc64d8-24bf-41ca-bc45-4ea2133621e5",
   "metadata": {
    "id": "93fc64d8-24bf-41ca-bc45-4ea2133621e5"
   },
   "source": [
    "### CP Results"
   ]
  },
  {
   "cell_type": "code",
   "execution_count": 14,
   "id": "db139ca8-f50c-4793-8cf9-df74ca040de3",
   "metadata": {
    "id": "db139ca8-f50c-4793-8cf9-df74ca040de3"
   },
   "outputs": [],
   "source": [
    "mean_coverage_by_trial = pd.read_csv(dataset + filler + 'Threshold_type_' + str(threshold_type) + filler2 + \\\n",
    "                                muh_fun + '/JAWS_coverage_by_trial/mean_coverage.csv')"
   ]
  },
  {
   "cell_type": "code",
   "execution_count": 15,
   "id": "d963c2de-fd3c-4f37-8cd9-e3b0e78be49a",
   "metadata": {
    "id": "d963c2de-fd3c-4f37-8cd9-e3b0e78be49a",
    "outputId": "0a40c81c-6ff5-4efc-a2d9-130060eeb7e7"
   },
   "outputs": [
    {
     "data": {
      "text/html": [
       "<div>\n",
       "<style scoped>\n",
       "    .dataframe tbody tr th:only-of-type {\n",
       "        vertical-align: middle;\n",
       "    }\n",
       "\n",
       "    .dataframe tbody tr th {\n",
       "        vertical-align: top;\n",
       "    }\n",
       "\n",
       "    .dataframe thead th {\n",
       "        text-align: right;\n",
       "    }\n",
       "</style>\n",
       "<table border=\"1\" class=\"dataframe\">\n",
       "  <thead>\n",
       "    <tr style=\"text-align: right;\">\n",
       "      <th></th>\n",
       "      <th>Jacknife+</th>\n",
       "      <th>CV+</th>\n",
       "      <th>Split</th>\n",
       "      <th>Empirical</th>\n",
       "    </tr>\n",
       "  </thead>\n",
       "  <tbody>\n",
       "    <tr>\n",
       "      <th>0</th>\n",
       "      <td>0.988756</td>\n",
       "      <td>0.986008</td>\n",
       "      <td>0.969639</td>\n",
       "      <td>0.991131</td>\n",
       "    </tr>\n",
       "    <tr>\n",
       "      <th>1</th>\n",
       "      <td>0.990457</td>\n",
       "      <td>0.985102</td>\n",
       "      <td>0.925996</td>\n",
       "      <td>0.993348</td>\n",
       "    </tr>\n",
       "    <tr>\n",
       "      <th>2</th>\n",
       "      <td>0.965601</td>\n",
       "      <td>0.944500</td>\n",
       "      <td>0.948767</td>\n",
       "      <td>0.957871</td>\n",
       "    </tr>\n",
       "    <tr>\n",
       "      <th>3</th>\n",
       "      <td>0.986284</td>\n",
       "      <td>0.945688</td>\n",
       "      <td>0.977230</td>\n",
       "      <td>0.991131</td>\n",
       "    </tr>\n",
       "    <tr>\n",
       "      <th>4</th>\n",
       "      <td>0.986774</td>\n",
       "      <td>0.956743</td>\n",
       "      <td>0.943074</td>\n",
       "      <td>0.995565</td>\n",
       "    </tr>\n",
       "    <tr>\n",
       "      <th>...</th>\n",
       "      <td>...</td>\n",
       "      <td>...</td>\n",
       "      <td>...</td>\n",
       "      <td>...</td>\n",
       "    </tr>\n",
       "    <tr>\n",
       "      <th>95</th>\n",
       "      <td>0.961729</td>\n",
       "      <td>0.910276</td>\n",
       "      <td>0.944972</td>\n",
       "      <td>0.971175</td>\n",
       "    </tr>\n",
       "    <tr>\n",
       "      <th>96</th>\n",
       "      <td>0.986553</td>\n",
       "      <td>0.983087</td>\n",
       "      <td>0.946869</td>\n",
       "      <td>0.991131</td>\n",
       "    </tr>\n",
       "    <tr>\n",
       "      <th>97</th>\n",
       "      <td>0.987206</td>\n",
       "      <td>0.980225</td>\n",
       "      <td>0.975332</td>\n",
       "      <td>0.993348</td>\n",
       "    </tr>\n",
       "    <tr>\n",
       "      <th>98</th>\n",
       "      <td>0.983015</td>\n",
       "      <td>0.978728</td>\n",
       "      <td>0.943074</td>\n",
       "      <td>0.993348</td>\n",
       "    </tr>\n",
       "    <tr>\n",
       "      <th>99</th>\n",
       "      <td>0.959518</td>\n",
       "      <td>0.875196</td>\n",
       "      <td>0.954459</td>\n",
       "      <td>0.991131</td>\n",
       "    </tr>\n",
       "  </tbody>\n",
       "</table>\n",
       "<p>100 rows × 4 columns</p>\n",
       "</div>"
      ],
      "text/plain": [
       "    Jacknife+       CV+     Split  Empirical\n",
       "0    0.988756  0.986008  0.969639   0.991131\n",
       "1    0.990457  0.985102  0.925996   0.993348\n",
       "2    0.965601  0.944500  0.948767   0.957871\n",
       "3    0.986284  0.945688  0.977230   0.991131\n",
       "4    0.986774  0.956743  0.943074   0.995565\n",
       "..        ...       ...       ...        ...\n",
       "95   0.961729  0.910276  0.944972   0.971175\n",
       "96   0.986553  0.983087  0.946869   0.991131\n",
       "97   0.987206  0.980225  0.975332   0.993348\n",
       "98   0.983015  0.978728  0.943074   0.993348\n",
       "99   0.959518  0.875196  0.954459   0.991131\n",
       "\n",
       "[100 rows x 4 columns]"
      ]
     },
     "execution_count": 15,
     "metadata": {},
     "output_type": "execute_result"
    }
   ],
   "source": [
    "mean_coverage_by_trial"
   ]
  },
  {
   "cell_type": "code",
   "execution_count": 16,
   "id": "24ef2183-7ebb-427c-8129-66bd58c6a0e0",
   "metadata": {
    "id": "24ef2183-7ebb-427c-8129-66bd58c6a0e0",
    "outputId": "cd6c60d8-7653-468e-c208-d0d0d180835e"
   },
   "outputs": [
    {
     "data": {
      "image/png": "[encoded data removed]",
      "text/plain": [
       "<Figure size 432x288 with 1 Axes>"
      ]
     },
     "metadata": {
      "needs_background": "light"
     },
     "output_type": "display_data"
    }
   ],
   "source": [
    "# plt.axvline(x = np.mean(mean_coverage_by_trial['True Probability']),\n",
    "#                     color = '#33a02c',\n",
    "#                     lw = 2,\n",
    "#                     linestyle = '--',\n",
    "#                     label = 'True Probability')\n",
    "for i in range(len(mean_coverage_by_trial.columns)):\n",
    "    plt.hist(mean_coverage_by_trial.iloc[:,i],\n",
    "             alpha = 0.78,\n",
    "             color = cmap[i],\n",
    "             label = mean_coverage_by_trial.columns[i] )\n",
    "\n",
    "plt.legend(loc = 'upper left')\n",
    "plt.savefig(dataset + filler + 'Threshold_type_' + str(threshold_type) + filler2 + \\\n",
    "                            muh_fun +  '/plots/JAWS_mean_results_' + dataset +'.png')\n",
    "\n",
    "#Image(dataset + filler + 'Threshold_type_' + threshold_type + '/' + muh_fun + '/plots/JAWS_mean_results_' + dataset + '.png', width = 600, height = 700)"
   ]
  },
  {
   "cell_type": "markdown",
   "id": "d2f0e1a0-33e4-4e35-805e-ab45b801f3fe",
   "metadata": {},
   "source": [
    "### Baseline - GPR"
   ]
  },
  {
   "cell_type": "code",
   "execution_count": 17,
   "id": "2c5a65ce-1e8d-4600-8bbe-a91a1bf1aac0",
   "metadata": {},
   "outputs": [],
   "source": [
    "# np.random.seed(98765) \n",
    "\n",
    "# X_train, Y_train, X_test, Y_test = generate_data_for_trials(ntrial, n_train, n_total, \\\n",
    "#                                                     eval('X_' + dataset), eval('Y_' + dataset), bias)"
   ]
  },
  {
   "cell_type": "code",
   "execution_count": 18,
   "id": "d8455596-5a23-43b2-9e71-5eadf2936835",
   "metadata": {},
   "outputs": [],
   "source": [
    "# kernel = 1.0 * RBF(length_scale = 1.0, length_scale_bounds = (1e-2, 1e3))\n",
    "# gp = GaussianProcessRegressor(kernel = kernel, n_restarts_optimizer = 10)"
   ]
  },
  {
   "cell_type": "code",
   "execution_count": 19,
   "id": "79d6cfd2-d6e9-4c65-83ce-3f8bd476c1c3",
   "metadata": {},
   "outputs": [],
   "source": [
    "# for i in tqdm.tqdm(range(ntrial)):\n",
    "    \n",
    "#     #Get data for ith trial\n",
    "#     X_train_trial = X_train[i]\n",
    "#     Y_train_trial = Y_train[i]\n",
    "#     X_test_trial = X_test[i]\n",
    "    \n",
    "#     #Standardize data\n",
    "#     scaler_X = StandardScaler()\n",
    "#     scaler_y = StandardScaler()\n",
    "    \n",
    "#     X_train_scaled = scaler_X.fit_transform(X_train_trial)\n",
    "#     Y_train_scaled = scaler_y.fit_transform(Y_train_trial.reshape(-1, 1)).ravel()\n",
    "    \n",
    "#     y_scale_factor = scaler_y.scale_\n",
    "#     y_mean = scaler_y.mean_\n",
    "    \n",
    "#     #Fit to training data\n",
    "#     gp.fit(X_train_scaled, Y_train_scaled)\n",
    "    \n",
    "#     # Make predictions on new data points\n",
    "#     X_test_scaled = scaler_X.fit_transform(X_test_trial)\n",
    "#     Y_pred_scaled, sigma_scaled = gp.predict(X_test_scaled, return_std = True)\n",
    "    \n",
    "#     #Rescale predictions\n",
    "#     Y_pred = Y_pred_scaled * y_scale_factor + y_mean\n",
    "#     sigma = sigma_scaled * y_scale_factor\n",
    "\n",
    "#     pd.DataFrame(Y_pred).to_csv(dataset + '/GPR/y_pred_' + str(int(i)) + '.csv', index = False)\n",
    "#     pd.DataFrame(sigma).to_csv(dataset + '/GPR/sigma_pred_' + str(int(i)) + '.csv', index = False)"
   ]
  },
  {
   "cell_type": "code",
   "execution_count": 20,
   "id": "3558f7a3-b723-4aef-a764-b32ba283138c",
   "metadata": {},
   "outputs": [],
   "source": [
    "# sigma_pred_by_trial = []\n",
    "# Y_pred_by_trial = []\n",
    "\n",
    "# for i in range(ntrial):\n",
    "    \n",
    "#     sigma_pred_by_trial.append(pd.read_csv(dataset + '/GPR/sigma_pred_' + str(int(i)) + '.csv')['0'].values)\n",
    "#     Y_pred_by_trial.append(pd.read_csv(dataset + '/GPR/Y_pred_' + str(int(i)) + '.csv')['0'].values)\n",
    "\n",
    "# pd.DataFrame(sigma_pred_by_trial).to_csv(dataset + '/GPR_' + str(ntrial) + 'Trial_' + 'Sigmas.csv', index = False)\n",
    "# pd.DataFrame(Y_pred_by_trial).to_csv(dataset + '/GPR_' + str(ntrial) + 'Trial_' + 'Preds.csv', index = False)"
   ]
  },
  {
   "cell_type": "code",
   "execution_count": 21,
   "id": "df67c3af-c567-49b3-9673-6ea2d8965366",
   "metadata": {},
   "outputs": [],
   "source": [
    "sigma_pred_by_trial = pd.read_csv(dataset + '/GPR_' + str(ntrial) + 'Trial_' + 'Sigmas.csv')\n",
    "GPR_mean_prob = np.mean(2*norm.cdf(tau/sigma_pred_by_trial)-1, axis = 1)\n",
    "GPR_mean_prob = pd.DataFrame(GPR_mean_prob).rename(columns = {0:'value'})\n",
    "GPR_mean_prob['model'] = 'GPR'\n",
    "GPR_mean_prob['Legend'] = ''"
   ]
  },
  {
   "cell_type": "code",
   "execution_count": 22,
   "id": "d55e6dc9-9430-40d9-871f-7ad3829e5315",
   "metadata": {},
   "outputs": [],
   "source": [
    "def coverage_by_model(dataset, filler, filler2, cp_types, threshold_type, model, model_names, cmap):\n",
    "    \n",
    "    mean_coverage_by_model = []\n",
    "    \n",
    "    for i in range(len(model)):\n",
    "        mean_coverage_by_model.append(pd.read_csv(dataset + filler + 'Threshold_type_' + str(threshold_type) \\\n",
    "                                  + filler2 + str(model[i]) + '/JAWS_coverage_by_trial/mean_coverage.csv'))\n",
    "        mean_coverage_by_model[i]['model'] = np.repeat(model_names[i], 100)\n",
    "\n",
    "    mean_coverage_by_model_transform = pd.melt(pd.concat([mean_coverage_by_model[0], \n",
    "                                                          mean_coverage_by_model[1], \n",
    "                                                          mean_coverage_by_model[2], \n",
    "                                                          mean_coverage_by_model[3]]),\n",
    "                                                id_vars = ['model'],\n",
    "                                                value_vars = cp_types, \n",
    "                                                var_name = 'Legend')\n",
    "    \n",
    "#     mean_coverage_total = pd.concat([mean_coverage_by_model_transform, GPR_mean_prob])\n",
    "    \n",
    "    plt.figure(figsize = (12,6))\n",
    "    \n",
    "    sns.boxplot(x = 'model',\n",
    "                y = 'value',\n",
    "                data = mean_coverage_by_model_transform,\n",
    "                hue = 'Legend',\n",
    "                palette = cmap,\n",
    "                showmeans = True,\n",
    "                meanprops = {\"marker\": \"+\",\n",
    "                       \"markeredgecolor\": \"black\",\n",
    "                       \"markersize\": \"10\"})\n",
    "\n",
    "    \n",
    "    plt.legend(loc = 'upper left')\n",
    "    plt.ylabel('Coverage')\n",
    "    plt.ylim(0.6,1.0)\n",
    "    plt.xlabel('Model')\n",
    "    plt.title('Coverage estimate distribution by  model')\n",
    "    \n",
    "    for i in range(len(model)):\n",
    "        plt.savefig(dataset +  filler + 'Threshold_type_' + str(threshold_type) + '/' + \\\n",
    "                           filler2 + model[i] + '/plots/coverage_estimates_by_model_' + dataset +'.png')\n",
    "    #plt.clf()\n",
    "    \n",
    "    return None"
   ]
  },
  {
   "cell_type": "code",
   "execution_count": 23,
   "id": "37e9dc00-b5aa-4567-8521-0dd94c49adbd",
   "metadata": {},
   "outputs": [
    {
     "data": {
      "image/png": "[encoded data removed]",
      "text/plain": [
       "<Figure size 864x432 with 1 Axes>"
      ]
     },
     "metadata": {
      "needs_background": "light"
     },
     "output_type": "display_data"
    }
   ],
   "source": [
    "coverage_by_model(dataset, filler, filler2, cp_types, threshold_type, muh_fun_range, models, cmap)"
   ]
  }
 ],
 "metadata": {
  "colab": {
   "provenance": []
  },
  "kernelspec": {
   "display_name": "Python 3 (ipykernel)",
   "language": "python",
   "name": "python3"
  },
  "language_info": {
   "codemirror_mode": {
    "name": "ipython",
    "version": 3
   },
   "file_extension": ".py",
   "mimetype": "text/x-python",
   "name": "python",
   "nbconvert_exporter": "python",
   "pygments_lexer": "ipython3",
   "version": "3.9.12"
  }
 },
 "nbformat": 4,
 "nbformat_minor": 5
}
