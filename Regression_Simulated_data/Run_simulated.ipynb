{
 "cells": [
  {
   "cell_type": "code",
   "execution_count": 1,
   "id": "c2d33b6f-f6ef-4c36-a3b6-6c191b62218d",
   "metadata": {},
   "outputs": [],
   "source": [
    "dataset_options = ['simulated']\n",
    "sim_data_size_options = [100, 200, 400, 600, 800, 1000]\n",
    "muh_fun_options = ['linear_regression','polynomial_regression', 'knn', 'support_vector','neural_network', 'random_forest']\n",
    "threshold_type_options = ['absolute','relative']\n",
    "tau_simulated_absolute = 10\n",
    "tau_simualted_relative = 0.175\n",
    "ntrials = 100"
   ]
  },
  {
   "cell_type": "code",
   "execution_count": 2,
   "id": "ae3bd777-ab22-4542-9012-f10b0e07be6b",
   "metadata": {},
   "outputs": [
    {
     "name": "stdout",
     "output_type": "stream",
     "text": [
      "X_simulated shape :  (1000, 2)\n",
      "Running dataset simulated, with muh fun gpr, with absolute threshold variation of 10.0 for ntrial 100\n"
     ]
    },
    {
     "name": "stderr",
     "output_type": "stream",
     "text": [
      "100%|████████████████████████████████████████████████████████████████████████████████| 100/100 [00:12<00:00,  8.05it/s]\n",
      "100%|████████████████████████████████████████████████████████████████████████████████| 100/100 [11:45<00:00,  7.05s/it]\n"
     ]
    },
    {
     "ename": "FileNotFoundError",
     "evalue": "[Errno 2] No such file or directory: 'simulated/No_bias/sim_data_size_1000/Threshold_type_absolute/gpr/JAWS_coverage_by_trial/jackknife_plus.csv'",
     "output_type": "error",
     "traceback": [
      "\u001b[1;31m---------------------------------------------------------------------------\u001b[0m",
      "\u001b[1;31mFileNotFoundError\u001b[0m                         Traceback (most recent call last)",
      "File \u001b[1;32m~\\OneDrive - Munich Re\\Documents - Insure AI\\3 - Research and Knowledge\\Code\\JAWS_experiments_Sukrita\\Experiment 1\\CP_regression_pipeline_simulated.py:104\u001b[0m, in \u001b[0;36m<module>\u001b[1;34m\u001b[0m\n\u001b[0;32m     97\u001b[0m PDs_all \u001b[38;5;241m=\u001b[39m pd\u001b[38;5;241m.\u001b[39mread_csv(dataset \u001b[38;5;241m+\u001b[39m filler \u001b[38;5;241m+\u001b[39m muh_fun_name \u001b[38;5;241m+\u001b[39m \u001b[38;5;124m'\u001b[39m\u001b[38;5;124m_\u001b[39m\u001b[38;5;124m'\u001b[39m \u001b[38;5;241m+\u001b[39m \u001b[38;5;28mstr\u001b[39m(ntrial) \u001b[38;5;241m+\u001b[39m \u001b[38;5;124m'\u001b[39m\u001b[38;5;124mTrial\u001b[39m\u001b[38;5;124m'\u001b[39m  \u001b[38;5;241m+\u001b[39m\u001b[38;5;124m'\u001b[39m\u001b[38;5;124m_PDs.csv\u001b[39m\u001b[38;5;124m'\u001b[39m)\n\u001b[0;32m     99\u001b[0m results_by_tau(dataset, filler, muh_fun_name, ntrial, X_test, Y_test, \\\n\u001b[0;32m    100\u001b[0m                PDs_all, Res_all, threshold_type, tau, sigma_eps)\n\u001b[1;32m--> 104\u001b[0m jacknife_plus_fn \u001b[38;5;241m=\u001b[39m pd\u001b[38;5;241m.\u001b[39mread_csv(dataset \u001b[38;5;241m+\u001b[39m filler \u001b[38;5;241m+\u001b[39m \u001b[38;5;124m'\u001b[39m\u001b[38;5;124mThreshold_type_\u001b[39m\u001b[38;5;124m'\u001b[39m \u001b[38;5;241m+\u001b[39m \u001b[38;5;28mstr\u001b[39m(threshold_type) \u001b[38;5;241m+\u001b[39m \u001b[38;5;124m'\u001b[39m\u001b[38;5;124m/\u001b[39m\u001b[38;5;124m'\u001b[39m \u001b[38;5;241m+\u001b[39m \\\n\u001b[0;32m    105\u001b[0m                             muh_fun_name \u001b[38;5;241m+\u001b[39m \u001b[38;5;124m'\u001b[39m\u001b[38;5;124m/JAWS_coverage_by_trial/jackknife_plus.csv\u001b[39m\u001b[38;5;124m'\u001b[39m, index_col\u001b[38;5;241m=\u001b[39m\u001b[38;5;241m0\u001b[39m)\n\u001b[0;32m    106\u001b[0m jacknife_fn \u001b[38;5;241m=\u001b[39m pd\u001b[38;5;241m.\u001b[39mread_csv(dataset \u001b[38;5;241m+\u001b[39m filler \u001b[38;5;241m+\u001b[39m \u001b[38;5;124m'\u001b[39m\u001b[38;5;124mThreshold_type_\u001b[39m\u001b[38;5;124m'\u001b[39m \u001b[38;5;241m+\u001b[39m \u001b[38;5;28mstr\u001b[39m(threshold_type) \u001b[38;5;241m+\u001b[39m \u001b[38;5;124m'\u001b[39m\u001b[38;5;124m/\u001b[39m\u001b[38;5;124m'\u001b[39m \u001b[38;5;241m+\u001b[39m \\\n\u001b[0;32m    107\u001b[0m                             muh_fun_name \u001b[38;5;241m+\u001b[39m \u001b[38;5;124m'\u001b[39m\u001b[38;5;124m/JAWS_coverage_by_trial/jackknife.csv\u001b[39m\u001b[38;5;124m'\u001b[39m, index_col\u001b[38;5;241m=\u001b[39m\u001b[38;5;241m0\u001b[39m)\n\u001b[0;32m    108\u001b[0m wt_jackknife_plus_fn \u001b[38;5;241m=\u001b[39m pd\u001b[38;5;241m.\u001b[39mread_csv(dataset \u001b[38;5;241m+\u001b[39m filler \u001b[38;5;241m+\u001b[39m \u001b[38;5;124m'\u001b[39m\u001b[38;5;124mThreshold_type_\u001b[39m\u001b[38;5;124m'\u001b[39m \u001b[38;5;241m+\u001b[39m \u001b[38;5;28mstr\u001b[39m(threshold_type) \u001b[38;5;241m+\u001b[39m \u001b[38;5;124m'\u001b[39m\u001b[38;5;124m/\u001b[39m\u001b[38;5;124m'\u001b[39m \u001b[38;5;241m+\u001b[39m \\\n\u001b[0;32m    109\u001b[0m                             muh_fun_name \u001b[38;5;241m+\u001b[39m \u001b[38;5;124m'\u001b[39m\u001b[38;5;124m/JAWS_coverage_by_trial/wt_jackknife_plus.csv\u001b[39m\u001b[38;5;124m'\u001b[39m, index_col\u001b[38;5;241m=\u001b[39m\u001b[38;5;241m0\u001b[39m)\n",
      "File \u001b[1;32mC:\\Program Files (x86)\\conda3_2022\\lib\\site-packages\\pandas\\util\\_decorators.py:311\u001b[0m, in \u001b[0;36mdeprecate_nonkeyword_arguments.<locals>.decorate.<locals>.wrapper\u001b[1;34m(*args, **kwargs)\u001b[0m\n\u001b[0;32m    305\u001b[0m \u001b[38;5;28;01mif\u001b[39;00m \u001b[38;5;28mlen\u001b[39m(args) \u001b[38;5;241m>\u001b[39m num_allow_args:\n\u001b[0;32m    306\u001b[0m     warnings\u001b[38;5;241m.\u001b[39mwarn(\n\u001b[0;32m    307\u001b[0m         msg\u001b[38;5;241m.\u001b[39mformat(arguments\u001b[38;5;241m=\u001b[39marguments),\n\u001b[0;32m    308\u001b[0m         \u001b[38;5;167;01mFutureWarning\u001b[39;00m,\n\u001b[0;32m    309\u001b[0m         stacklevel\u001b[38;5;241m=\u001b[39mstacklevel,\n\u001b[0;32m    310\u001b[0m     )\n\u001b[1;32m--> 311\u001b[0m \u001b[38;5;28;01mreturn\u001b[39;00m func(\u001b[38;5;241m*\u001b[39margs, \u001b[38;5;241m*\u001b[39m\u001b[38;5;241m*\u001b[39mkwargs)\n",
      "File \u001b[1;32mC:\\Program Files (x86)\\conda3_2022\\lib\\site-packages\\pandas\\io\\parsers\\readers.py:680\u001b[0m, in \u001b[0;36mread_csv\u001b[1;34m(filepath_or_buffer, sep, delimiter, header, names, index_col, usecols, squeeze, prefix, mangle_dupe_cols, dtype, engine, converters, true_values, false_values, skipinitialspace, skiprows, skipfooter, nrows, na_values, keep_default_na, na_filter, verbose, skip_blank_lines, parse_dates, infer_datetime_format, keep_date_col, date_parser, dayfirst, cache_dates, iterator, chunksize, compression, thousands, decimal, lineterminator, quotechar, quoting, doublequote, escapechar, comment, encoding, encoding_errors, dialect, error_bad_lines, warn_bad_lines, on_bad_lines, delim_whitespace, low_memory, memory_map, float_precision, storage_options)\u001b[0m\n\u001b[0;32m    665\u001b[0m kwds_defaults \u001b[38;5;241m=\u001b[39m _refine_defaults_read(\n\u001b[0;32m    666\u001b[0m     dialect,\n\u001b[0;32m    667\u001b[0m     delimiter,\n\u001b[1;32m   (...)\u001b[0m\n\u001b[0;32m    676\u001b[0m     defaults\u001b[38;5;241m=\u001b[39m{\u001b[38;5;124m\"\u001b[39m\u001b[38;5;124mdelimiter\u001b[39m\u001b[38;5;124m\"\u001b[39m: \u001b[38;5;124m\"\u001b[39m\u001b[38;5;124m,\u001b[39m\u001b[38;5;124m\"\u001b[39m},\n\u001b[0;32m    677\u001b[0m )\n\u001b[0;32m    678\u001b[0m kwds\u001b[38;5;241m.\u001b[39mupdate(kwds_defaults)\n\u001b[1;32m--> 680\u001b[0m \u001b[38;5;28;01mreturn\u001b[39;00m \u001b[43m_read\u001b[49m\u001b[43m(\u001b[49m\u001b[43mfilepath_or_buffer\u001b[49m\u001b[43m,\u001b[49m\u001b[43m \u001b[49m\u001b[43mkwds\u001b[49m\u001b[43m)\u001b[49m\n",
      "File \u001b[1;32mC:\\Program Files (x86)\\conda3_2022\\lib\\site-packages\\pandas\\io\\parsers\\readers.py:575\u001b[0m, in \u001b[0;36m_read\u001b[1;34m(filepath_or_buffer, kwds)\u001b[0m\n\u001b[0;32m    572\u001b[0m _validate_names(kwds\u001b[38;5;241m.\u001b[39mget(\u001b[38;5;124m\"\u001b[39m\u001b[38;5;124mnames\u001b[39m\u001b[38;5;124m\"\u001b[39m, \u001b[38;5;28;01mNone\u001b[39;00m))\n\u001b[0;32m    574\u001b[0m \u001b[38;5;66;03m# Create the parser.\u001b[39;00m\n\u001b[1;32m--> 575\u001b[0m parser \u001b[38;5;241m=\u001b[39m TextFileReader(filepath_or_buffer, \u001b[38;5;241m*\u001b[39m\u001b[38;5;241m*\u001b[39mkwds)\n\u001b[0;32m    577\u001b[0m \u001b[38;5;28;01mif\u001b[39;00m chunksize \u001b[38;5;129;01mor\u001b[39;00m iterator:\n\u001b[0;32m    578\u001b[0m     \u001b[38;5;28;01mreturn\u001b[39;00m parser\n",
      "File \u001b[1;32mC:\\Program Files (x86)\\conda3_2022\\lib\\site-packages\\pandas\\io\\parsers\\readers.py:933\u001b[0m, in \u001b[0;36mTextFileReader.__init__\u001b[1;34m(self, f, engine, **kwds)\u001b[0m\n\u001b[0;32m    930\u001b[0m     \u001b[38;5;28mself\u001b[39m\u001b[38;5;241m.\u001b[39moptions[\u001b[38;5;124m\"\u001b[39m\u001b[38;5;124mhas_index_names\u001b[39m\u001b[38;5;124m\"\u001b[39m] \u001b[38;5;241m=\u001b[39m kwds[\u001b[38;5;124m\"\u001b[39m\u001b[38;5;124mhas_index_names\u001b[39m\u001b[38;5;124m\"\u001b[39m]\n\u001b[0;32m    932\u001b[0m \u001b[38;5;28mself\u001b[39m\u001b[38;5;241m.\u001b[39mhandles: IOHandles \u001b[38;5;241m|\u001b[39m \u001b[38;5;28;01mNone\u001b[39;00m \u001b[38;5;241m=\u001b[39m \u001b[38;5;28;01mNone\u001b[39;00m\n\u001b[1;32m--> 933\u001b[0m \u001b[38;5;28mself\u001b[39m\u001b[38;5;241m.\u001b[39m_engine \u001b[38;5;241m=\u001b[39m \u001b[38;5;28;43mself\u001b[39;49m\u001b[38;5;241;43m.\u001b[39;49m\u001b[43m_make_engine\u001b[49m\u001b[43m(\u001b[49m\u001b[43mf\u001b[49m\u001b[43m,\u001b[49m\u001b[43m \u001b[49m\u001b[38;5;28;43mself\u001b[39;49m\u001b[38;5;241;43m.\u001b[39;49m\u001b[43mengine\u001b[49m\u001b[43m)\u001b[49m\n",
      "File \u001b[1;32mC:\\Program Files (x86)\\conda3_2022\\lib\\site-packages\\pandas\\io\\parsers\\readers.py:1217\u001b[0m, in \u001b[0;36mTextFileReader._make_engine\u001b[1;34m(self, f, engine)\u001b[0m\n\u001b[0;32m   1213\u001b[0m     mode \u001b[38;5;241m=\u001b[39m \u001b[38;5;124m\"\u001b[39m\u001b[38;5;124mrb\u001b[39m\u001b[38;5;124m\"\u001b[39m\n\u001b[0;32m   1214\u001b[0m \u001b[38;5;66;03m# error: No overload variant of \"get_handle\" matches argument types\u001b[39;00m\n\u001b[0;32m   1215\u001b[0m \u001b[38;5;66;03m# \"Union[str, PathLike[str], ReadCsvBuffer[bytes], ReadCsvBuffer[str]]\"\u001b[39;00m\n\u001b[0;32m   1216\u001b[0m \u001b[38;5;66;03m# , \"str\", \"bool\", \"Any\", \"Any\", \"Any\", \"Any\", \"Any\"\u001b[39;00m\n\u001b[1;32m-> 1217\u001b[0m \u001b[38;5;28mself\u001b[39m\u001b[38;5;241m.\u001b[39mhandles \u001b[38;5;241m=\u001b[39m \u001b[43mget_handle\u001b[49m\u001b[43m(\u001b[49m\u001b[43m  \u001b[49m\u001b[38;5;66;43;03m# type: ignore[call-overload]\u001b[39;49;00m\n\u001b[0;32m   1218\u001b[0m \u001b[43m    \u001b[49m\u001b[43mf\u001b[49m\u001b[43m,\u001b[49m\n\u001b[0;32m   1219\u001b[0m \u001b[43m    \u001b[49m\u001b[43mmode\u001b[49m\u001b[43m,\u001b[49m\n\u001b[0;32m   1220\u001b[0m \u001b[43m    \u001b[49m\u001b[43mencoding\u001b[49m\u001b[38;5;241;43m=\u001b[39;49m\u001b[38;5;28;43mself\u001b[39;49m\u001b[38;5;241;43m.\u001b[39;49m\u001b[43moptions\u001b[49m\u001b[38;5;241;43m.\u001b[39;49m\u001b[43mget\u001b[49m\u001b[43m(\u001b[49m\u001b[38;5;124;43m\"\u001b[39;49m\u001b[38;5;124;43mencoding\u001b[39;49m\u001b[38;5;124;43m\"\u001b[39;49m\u001b[43m,\u001b[49m\u001b[43m \u001b[49m\u001b[38;5;28;43;01mNone\u001b[39;49;00m\u001b[43m)\u001b[49m\u001b[43m,\u001b[49m\n\u001b[0;32m   1221\u001b[0m \u001b[43m    \u001b[49m\u001b[43mcompression\u001b[49m\u001b[38;5;241;43m=\u001b[39;49m\u001b[38;5;28;43mself\u001b[39;49m\u001b[38;5;241;43m.\u001b[39;49m\u001b[43moptions\u001b[49m\u001b[38;5;241;43m.\u001b[39;49m\u001b[43mget\u001b[49m\u001b[43m(\u001b[49m\u001b[38;5;124;43m\"\u001b[39;49m\u001b[38;5;124;43mcompression\u001b[39;49m\u001b[38;5;124;43m\"\u001b[39;49m\u001b[43m,\u001b[49m\u001b[43m \u001b[49m\u001b[38;5;28;43;01mNone\u001b[39;49;00m\u001b[43m)\u001b[49m\u001b[43m,\u001b[49m\n\u001b[0;32m   1222\u001b[0m \u001b[43m    \u001b[49m\u001b[43mmemory_map\u001b[49m\u001b[38;5;241;43m=\u001b[39;49m\u001b[38;5;28;43mself\u001b[39;49m\u001b[38;5;241;43m.\u001b[39;49m\u001b[43moptions\u001b[49m\u001b[38;5;241;43m.\u001b[39;49m\u001b[43mget\u001b[49m\u001b[43m(\u001b[49m\u001b[38;5;124;43m\"\u001b[39;49m\u001b[38;5;124;43mmemory_map\u001b[39;49m\u001b[38;5;124;43m\"\u001b[39;49m\u001b[43m,\u001b[49m\u001b[43m \u001b[49m\u001b[38;5;28;43;01mFalse\u001b[39;49;00m\u001b[43m)\u001b[49m\u001b[43m,\u001b[49m\n\u001b[0;32m   1223\u001b[0m \u001b[43m    \u001b[49m\u001b[43mis_text\u001b[49m\u001b[38;5;241;43m=\u001b[39;49m\u001b[43mis_text\u001b[49m\u001b[43m,\u001b[49m\n\u001b[0;32m   1224\u001b[0m \u001b[43m    \u001b[49m\u001b[43merrors\u001b[49m\u001b[38;5;241;43m=\u001b[39;49m\u001b[38;5;28;43mself\u001b[39;49m\u001b[38;5;241;43m.\u001b[39;49m\u001b[43moptions\u001b[49m\u001b[38;5;241;43m.\u001b[39;49m\u001b[43mget\u001b[49m\u001b[43m(\u001b[49m\u001b[38;5;124;43m\"\u001b[39;49m\u001b[38;5;124;43mencoding_errors\u001b[39;49m\u001b[38;5;124;43m\"\u001b[39;49m\u001b[43m,\u001b[49m\u001b[43m \u001b[49m\u001b[38;5;124;43m\"\u001b[39;49m\u001b[38;5;124;43mstrict\u001b[39;49m\u001b[38;5;124;43m\"\u001b[39;49m\u001b[43m)\u001b[49m\u001b[43m,\u001b[49m\n\u001b[0;32m   1225\u001b[0m \u001b[43m    \u001b[49m\u001b[43mstorage_options\u001b[49m\u001b[38;5;241;43m=\u001b[39;49m\u001b[38;5;28;43mself\u001b[39;49m\u001b[38;5;241;43m.\u001b[39;49m\u001b[43moptions\u001b[49m\u001b[38;5;241;43m.\u001b[39;49m\u001b[43mget\u001b[49m\u001b[43m(\u001b[49m\u001b[38;5;124;43m\"\u001b[39;49m\u001b[38;5;124;43mstorage_options\u001b[39;49m\u001b[38;5;124;43m\"\u001b[39;49m\u001b[43m,\u001b[49m\u001b[43m \u001b[49m\u001b[38;5;28;43;01mNone\u001b[39;49;00m\u001b[43m)\u001b[49m\u001b[43m,\u001b[49m\n\u001b[0;32m   1226\u001b[0m \u001b[43m\u001b[49m\u001b[43m)\u001b[49m\n\u001b[0;32m   1227\u001b[0m \u001b[38;5;28;01massert\u001b[39;00m \u001b[38;5;28mself\u001b[39m\u001b[38;5;241m.\u001b[39mhandles \u001b[38;5;129;01mis\u001b[39;00m \u001b[38;5;129;01mnot\u001b[39;00m \u001b[38;5;28;01mNone\u001b[39;00m\n\u001b[0;32m   1228\u001b[0m f \u001b[38;5;241m=\u001b[39m \u001b[38;5;28mself\u001b[39m\u001b[38;5;241m.\u001b[39mhandles\u001b[38;5;241m.\u001b[39mhandle\n",
      "File \u001b[1;32mC:\\Program Files (x86)\\conda3_2022\\lib\\site-packages\\pandas\\io\\common.py:789\u001b[0m, in \u001b[0;36mget_handle\u001b[1;34m(path_or_buf, mode, encoding, compression, memory_map, is_text, errors, storage_options)\u001b[0m\n\u001b[0;32m    784\u001b[0m \u001b[38;5;28;01melif\u001b[39;00m \u001b[38;5;28misinstance\u001b[39m(handle, \u001b[38;5;28mstr\u001b[39m):\n\u001b[0;32m    785\u001b[0m     \u001b[38;5;66;03m# Check whether the filename is to be opened in binary mode.\u001b[39;00m\n\u001b[0;32m    786\u001b[0m     \u001b[38;5;66;03m# Binary mode does not support 'encoding' and 'newline'.\u001b[39;00m\n\u001b[0;32m    787\u001b[0m     \u001b[38;5;28;01mif\u001b[39;00m ioargs\u001b[38;5;241m.\u001b[39mencoding \u001b[38;5;129;01mand\u001b[39;00m \u001b[38;5;124m\"\u001b[39m\u001b[38;5;124mb\u001b[39m\u001b[38;5;124m\"\u001b[39m \u001b[38;5;129;01mnot\u001b[39;00m \u001b[38;5;129;01min\u001b[39;00m ioargs\u001b[38;5;241m.\u001b[39mmode:\n\u001b[0;32m    788\u001b[0m         \u001b[38;5;66;03m# Encoding\u001b[39;00m\n\u001b[1;32m--> 789\u001b[0m         handle \u001b[38;5;241m=\u001b[39m \u001b[38;5;28;43mopen\u001b[39;49m\u001b[43m(\u001b[49m\n\u001b[0;32m    790\u001b[0m \u001b[43m            \u001b[49m\u001b[43mhandle\u001b[49m\u001b[43m,\u001b[49m\n\u001b[0;32m    791\u001b[0m \u001b[43m            \u001b[49m\u001b[43mioargs\u001b[49m\u001b[38;5;241;43m.\u001b[39;49m\u001b[43mmode\u001b[49m\u001b[43m,\u001b[49m\n\u001b[0;32m    792\u001b[0m \u001b[43m            \u001b[49m\u001b[43mencoding\u001b[49m\u001b[38;5;241;43m=\u001b[39;49m\u001b[43mioargs\u001b[49m\u001b[38;5;241;43m.\u001b[39;49m\u001b[43mencoding\u001b[49m\u001b[43m,\u001b[49m\n\u001b[0;32m    793\u001b[0m \u001b[43m            \u001b[49m\u001b[43merrors\u001b[49m\u001b[38;5;241;43m=\u001b[39;49m\u001b[43merrors\u001b[49m\u001b[43m,\u001b[49m\n\u001b[0;32m    794\u001b[0m \u001b[43m            \u001b[49m\u001b[43mnewline\u001b[49m\u001b[38;5;241;43m=\u001b[39;49m\u001b[38;5;124;43m\"\u001b[39;49m\u001b[38;5;124;43m\"\u001b[39;49m\u001b[43m,\u001b[49m\n\u001b[0;32m    795\u001b[0m \u001b[43m        \u001b[49m\u001b[43m)\u001b[49m\n\u001b[0;32m    796\u001b[0m     \u001b[38;5;28;01melse\u001b[39;00m:\n\u001b[0;32m    797\u001b[0m         \u001b[38;5;66;03m# Binary mode\u001b[39;00m\n\u001b[0;32m    798\u001b[0m         handle \u001b[38;5;241m=\u001b[39m \u001b[38;5;28mopen\u001b[39m(handle, ioargs\u001b[38;5;241m.\u001b[39mmode)\n",
      "\u001b[1;31mFileNotFoundError\u001b[0m: [Errno 2] No such file or directory: 'simulated/No_bias/sim_data_size_1000/Threshold_type_absolute/gpr/JAWS_coverage_by_trial/jackknife_plus.csv'"
     ]
    }
   ],
   "source": [
    "run CP_regression_pipeline_simulated.py --dataset simulated  --muh_fun gpr --threshold_type absolute --tau  10 --ntrial 100"
   ]
  },
  {
   "cell_type": "markdown",
   "id": "142db8a0-36a7-43b3-a393-dce425cd1a40",
   "metadata": {},
   "source": [
    "### Simulated Size = 100 Threshold = Absolute "
   ]
  },
  {
   "cell_type": "code",
   "execution_count": 3,
   "id": "f8a5a911-1b42-475e-846e-a180c7cf9060",
   "metadata": {},
   "outputs": [],
   "source": [
    "# run CP_regression_pipeline.py --dataset simulated --sim_data_size 100 --muh_fun linear_regression --threshold_type absolute --tau  10 --ntrial 100"
   ]
  },
  {
   "cell_type": "code",
   "execution_count": 4,
   "id": "9f3b72ca-0190-4c8b-b16f-66e06eb659c8",
   "metadata": {},
   "outputs": [],
   "source": [
    "# run CP_regression_pipeline.py --dataset simulated --sim_data_size 100 --muh_fun polynomial_regression --threshold_type absolute --tau  10 --ntrial 100"
   ]
  },
  {
   "cell_type": "code",
   "execution_count": 5,
   "id": "7d2cea1e-a6d9-4199-9bd9-12f162cec42b",
   "metadata": {},
   "outputs": [],
   "source": [
    "# run CP_regression_pipeline.py --dataset simulated --sim_data_size 100 --muh_fun knn --threshold_type absolute --tau  10 --ntrial 100"
   ]
  },
  {
   "cell_type": "code",
   "execution_count": 6,
   "id": "89620bea-8faf-4443-b928-6ca45bc9be0d",
   "metadata": {},
   "outputs": [],
   "source": [
    "# run CP_regression_pipeline.py --dataset simulated --sim_data_size 100 --muh_fun support_vector --threshold_type absolute --tau  10 --ntrial 100"
   ]
  },
  {
   "cell_type": "code",
   "execution_count": 7,
   "id": "73de3351-4472-4c61-baab-c6d0771ad094",
   "metadata": {},
   "outputs": [],
   "source": [
    "# run CP_regression_pipeline.py --dataset simulated --sim_data_size 100 --muh_fun random_forest --threshold_type absolute --tau  10 --ntrial 100"
   ]
  },
  {
   "cell_type": "code",
   "execution_count": 8,
   "id": "2a62c9b8-0cc3-48dd-8318-ae4057b3e0a3",
   "metadata": {},
   "outputs": [],
   "source": [
    "# run CP_regression_pipeline.py --dataset simulated --sim_data_size 100 --muh_fun neural_network --threshold_type absolute --tau  10 --ntrial 100"
   ]
  },
  {
   "cell_type": "markdown",
   "id": "b5957c7e-df68-4fd7-a120-0e5a32d8a2fd",
   "metadata": {},
   "source": [
    "### Simulated Size = 200 Threshold = Absolute "
   ]
  },
  {
   "cell_type": "code",
   "execution_count": 9,
   "id": "cdf7f857-5342-4d5e-807d-c291da172faf",
   "metadata": {},
   "outputs": [],
   "source": [
    "# run CP_regression_pipeline.py --dataset simulated --sim_data_size 200 --muh_fun linear_regression --threshold_type absolute --tau  10 --ntrial 100"
   ]
  },
  {
   "cell_type": "code",
   "execution_count": 10,
   "id": "4154b979-3bf7-4106-a343-fb748382108e",
   "metadata": {},
   "outputs": [],
   "source": [
    "# run CP_regression_pipeline.py --dataset simulated --sim_data_size 200 --muh_fun polynomial_regression --threshold_type absolute --tau  10 --ntrial 100"
   ]
  },
  {
   "cell_type": "code",
   "execution_count": 11,
   "id": "a4810a1e-cb11-46fb-882a-9b428777139e",
   "metadata": {},
   "outputs": [],
   "source": [
    "# run CP_regression_pipeline.py --dataset simulated --sim_data_size 200 --muh_fun knn --threshold_type absolute --tau  10 --ntrial 100"
   ]
  },
  {
   "cell_type": "code",
   "execution_count": 12,
   "id": "b082c9ed-d0a1-401c-a8c4-779fd4da264a",
   "metadata": {},
   "outputs": [],
   "source": [
    "# run CP_regression_pipeline.py --dataset simulated --sim_data_size 200 --muh_fun support_vector --threshold_type absolute --tau  10 --ntrial 100"
   ]
  },
  {
   "cell_type": "code",
   "execution_count": 13,
   "id": "1d26fee3-ad80-4b12-809d-ff3a9980f2bf",
   "metadata": {},
   "outputs": [],
   "source": [
    "# run CP_regression_pipeline.py --dataset simulated --sim_data_size 200 --muh_fun random_forest --threshold_type absolute --tau  10 --ntrial 100"
   ]
  },
  {
   "cell_type": "code",
   "execution_count": 14,
   "id": "7751f757-a70c-4460-baaa-061769b04f42",
   "metadata": {},
   "outputs": [],
   "source": [
    "# run CP_regression_pipeline.py --dataset simulated --sim_data_size 200 --muh_fun neural_network --threshold_type absolute --tau  10 --ntrial 100"
   ]
  },
  {
   "cell_type": "markdown",
   "id": "ac754e1b-2eac-4717-bdfe-50f03544bcd9",
   "metadata": {},
   "source": [
    "### Simulated Size = 400 Threshold = Absolute "
   ]
  },
  {
   "cell_type": "code",
   "execution_count": 15,
   "id": "61e23844-efd4-4434-808e-e523eac40fb0",
   "metadata": {},
   "outputs": [],
   "source": [
    "# run CP_regression_pipeline.py --dataset simulated --sim_data_size 400 --muh_fun linear_regression --threshold_type absolute --tau  10 --ntrial 100"
   ]
  },
  {
   "cell_type": "code",
   "execution_count": 16,
   "id": "e499d1c5-3137-4f59-96d7-f78be941c259",
   "metadata": {},
   "outputs": [],
   "source": [
    "# run CP_regression_pipeline.py --dataset simulated --sim_data_size 400 --muh_fun polynomial_regression --threshold_type absolute --tau  10 --ntrial 100"
   ]
  },
  {
   "cell_type": "code",
   "execution_count": 17,
   "id": "fb5d46c2-851a-45bf-9cb5-b27d718a271f",
   "metadata": {},
   "outputs": [],
   "source": [
    "# run CP_regression_pipeline.py --dataset simulated --sim_data_size 400 --muh_fun knn --threshold_type absolute --tau  10 --ntrial 100"
   ]
  },
  {
   "cell_type": "code",
   "execution_count": 18,
   "id": "2693248b-2966-42c7-94f8-aad578cf44fa",
   "metadata": {},
   "outputs": [],
   "source": [
    "# run CP_regression_pipeline.py --dataset simulated --sim_data_size 400 --muh_fun support_vector --threshold_type absolute --tau  10 --ntrial 100"
   ]
  },
  {
   "cell_type": "code",
   "execution_count": 19,
   "id": "0da9ac42-d853-46e3-bca9-a48ca822f39a",
   "metadata": {},
   "outputs": [],
   "source": [
    "# run CP_regression_pipeline.py --dataset simulated --sim_data_size 400 --muh_fun random_forest --threshold_type absolute --tau  10 --ntrial 100"
   ]
  },
  {
   "cell_type": "code",
   "execution_count": 20,
   "id": "f569f819-b861-4a09-91f0-478a5ffaeb16",
   "metadata": {},
   "outputs": [],
   "source": [
    "# run CP_regression_pipeline.py --dataset simulated --sim_data_size 400 --muh_fun neural_network --threshold_type absolute --tau  10 --ntrial 100"
   ]
  },
  {
   "cell_type": "markdown",
   "id": "03b2dfa6-7f6b-4f0a-87c9-084b2fbf5d5e",
   "metadata": {},
   "source": [
    "### Simulated Size = 600 Threshold = Absolute "
   ]
  },
  {
   "cell_type": "code",
   "execution_count": 21,
   "id": "09b3521b-2643-4245-8207-50972c6c587b",
   "metadata": {},
   "outputs": [],
   "source": [
    "# run CP_regression_pipeline.py --dataset simulated --sim_data_size 600 --muh_fun linear_regression --threshold_type absolute --tau  10 --ntrial 100"
   ]
  },
  {
   "cell_type": "code",
   "execution_count": 22,
   "id": "3cd7124f-5edc-4885-8502-aab65b8f49cd",
   "metadata": {},
   "outputs": [],
   "source": [
    "# run CP_regression_pipeline.py --dataset simulated --sim_data_size 600 --muh_fun polynomial_regression --threshold_type absolute --tau  10 --ntrial 100"
   ]
  },
  {
   "cell_type": "code",
   "execution_count": 23,
   "id": "79a75410-3334-4921-b42f-f1d3a8651567",
   "metadata": {},
   "outputs": [],
   "source": [
    "# run CP_regression_pipeline.py --dataset simulated --sim_data_size 600 --muh_fun knn --threshold_type absolute --tau  10 --ntrial 100"
   ]
  },
  {
   "cell_type": "code",
   "execution_count": 24,
   "id": "50be8987-1686-4512-9c0a-91ced1c561ce",
   "metadata": {},
   "outputs": [],
   "source": [
    "# run CP_regression_pipeline.py --dataset simulated --sim_data_size 600 --muh_fun support_vector --threshold_type absolute --tau  10 --ntrial 100"
   ]
  },
  {
   "cell_type": "code",
   "execution_count": 25,
   "id": "e6ebfb6a-cd38-4eed-a6ca-d29ec788cacc",
   "metadata": {},
   "outputs": [
    {
     "ename": "Exception",
     "evalue": "File `'CP_regression_pipeline.py'` not found.",
     "output_type": "error",
     "traceback": [
      "\u001b[1;31m---------------------------------------------------------------------------\u001b[0m",
      "\u001b[1;31mOSError\u001b[0m                                   Traceback (most recent call last)",
      "File \u001b[1;32mC:\\Program Files (x86)\\conda3_2022\\lib\\site-packages\\IPython\\core\\magics\\execution.py:696\u001b[0m, in \u001b[0;36mExecutionMagics.run\u001b[1;34m(self, parameter_s, runner, file_finder)\u001b[0m\n\u001b[0;32m    695\u001b[0m     fpath \u001b[38;5;241m=\u001b[39m arg_lst[\u001b[38;5;241m0\u001b[39m]\n\u001b[1;32m--> 696\u001b[0m     filename \u001b[38;5;241m=\u001b[39m \u001b[43mfile_finder\u001b[49m\u001b[43m(\u001b[49m\u001b[43mfpath\u001b[49m\u001b[43m)\u001b[49m\n\u001b[0;32m    697\u001b[0m \u001b[38;5;28;01mexcept\u001b[39;00m \u001b[38;5;167;01mIndexError\u001b[39;00m \u001b[38;5;28;01mas\u001b[39;00m e:\n",
      "File \u001b[1;32mC:\\Program Files (x86)\\conda3_2022\\lib\\site-packages\\IPython\\utils\\path.py:91\u001b[0m, in \u001b[0;36mget_py_filename\u001b[1;34m(name)\u001b[0m\n\u001b[0;32m     90\u001b[0m \u001b[38;5;28;01melse\u001b[39;00m:\n\u001b[1;32m---> 91\u001b[0m     \u001b[38;5;28;01mraise\u001b[39;00m \u001b[38;5;167;01mIOError\u001b[39;00m(\u001b[38;5;124m'\u001b[39m\u001b[38;5;124mFile `\u001b[39m\u001b[38;5;132;01m%r\u001b[39;00m\u001b[38;5;124m` not found.\u001b[39m\u001b[38;5;124m'\u001b[39m \u001b[38;5;241m%\u001b[39m name)\n",
      "\u001b[1;31mOSError\u001b[0m: File `'CP_regression_pipeline.py'` not found.",
      "\nThe above exception was the direct cause of the following exception:\n",
      "\u001b[1;31mException\u001b[0m                                 Traceback (most recent call last)",
      "Input \u001b[1;32mIn [25]\u001b[0m, in \u001b[0;36m<cell line: 1>\u001b[1;34m()\u001b[0m\n\u001b[1;32m----> 1\u001b[0m \u001b[43mget_ipython\u001b[49m\u001b[43m(\u001b[49m\u001b[43m)\u001b[49m\u001b[38;5;241;43m.\u001b[39;49m\u001b[43mrun_line_magic\u001b[49m\u001b[43m(\u001b[49m\u001b[38;5;124;43m'\u001b[39;49m\u001b[38;5;124;43mrun\u001b[39;49m\u001b[38;5;124;43m'\u001b[39;49m\u001b[43m,\u001b[49m\u001b[43m \u001b[49m\u001b[38;5;124;43m'\u001b[39;49m\u001b[38;5;124;43mCP_regression_pipeline.py --dataset simulated --sim_data_size 600 --muh_fun random_forest --threshold_type absolute --tau  10 --ntrial 100\u001b[39;49m\u001b[38;5;124;43m'\u001b[39;49m\u001b[43m)\u001b[49m\n",
      "File \u001b[1;32mC:\\Program Files (x86)\\conda3_2022\\lib\\site-packages\\IPython\\core\\interactiveshell.py:2294\u001b[0m, in \u001b[0;36mInteractiveShell.run_line_magic\u001b[1;34m(self, magic_name, line, _stack_depth)\u001b[0m\n\u001b[0;32m   2292\u001b[0m     kwargs[\u001b[38;5;124m'\u001b[39m\u001b[38;5;124mlocal_ns\u001b[39m\u001b[38;5;124m'\u001b[39m] \u001b[38;5;241m=\u001b[39m \u001b[38;5;28mself\u001b[39m\u001b[38;5;241m.\u001b[39mget_local_scope(stack_depth)\n\u001b[0;32m   2293\u001b[0m \u001b[38;5;28;01mwith\u001b[39;00m \u001b[38;5;28mself\u001b[39m\u001b[38;5;241m.\u001b[39mbuiltin_trap:\n\u001b[1;32m-> 2294\u001b[0m     result \u001b[38;5;241m=\u001b[39m fn(\u001b[38;5;241m*\u001b[39margs, \u001b[38;5;241m*\u001b[39m\u001b[38;5;241m*\u001b[39mkwargs)\n\u001b[0;32m   2295\u001b[0m \u001b[38;5;28;01mreturn\u001b[39;00m result\n",
      "File \u001b[1;32mC:\\Program Files (x86)\\conda3_2022\\lib\\site-packages\\IPython\\core\\magics\\execution.py:707\u001b[0m, in \u001b[0;36mExecutionMagics.run\u001b[1;34m(self, parameter_s, runner, file_finder)\u001b[0m\n\u001b[0;32m    705\u001b[0m     \u001b[38;5;28;01mif\u001b[39;00m os\u001b[38;5;241m.\u001b[39mname \u001b[38;5;241m==\u001b[39m \u001b[38;5;124m'\u001b[39m\u001b[38;5;124mnt\u001b[39m\u001b[38;5;124m'\u001b[39m \u001b[38;5;129;01mand\u001b[39;00m re\u001b[38;5;241m.\u001b[39mmatch(\u001b[38;5;124mr\u001b[39m\u001b[38;5;124m\"\u001b[39m\u001b[38;5;124m^\u001b[39m\u001b[38;5;124m'\u001b[39m\u001b[38;5;124m.*\u001b[39m\u001b[38;5;124m'\u001b[39m\u001b[38;5;124m$\u001b[39m\u001b[38;5;124m\"\u001b[39m,fpath):\n\u001b[0;32m    706\u001b[0m         warn(\u001b[38;5;124m'\u001b[39m\u001b[38;5;124mFor Windows, use double quotes to wrap a filename: \u001b[39m\u001b[38;5;132;01m%r\u001b[39;00m\u001b[38;5;124mun \u001b[39m\u001b[38;5;124m\"\u001b[39m\u001b[38;5;124mmypath\u001b[39m\u001b[38;5;130;01m\\\\\u001b[39;00m\u001b[38;5;124mmyfile.py\u001b[39m\u001b[38;5;124m\"\u001b[39m\u001b[38;5;124m'\u001b[39m)\n\u001b[1;32m--> 707\u001b[0m     \u001b[38;5;28;01mraise\u001b[39;00m \u001b[38;5;167;01mException\u001b[39;00m(msg) \u001b[38;5;28;01mfrom\u001b[39;00m \u001b[38;5;21;01me\u001b[39;00m\n\u001b[0;32m    708\u001b[0m \u001b[38;5;28;01mexcept\u001b[39;00m \u001b[38;5;167;01mTypeError\u001b[39;00m:\n\u001b[0;32m    709\u001b[0m     \u001b[38;5;28;01mif\u001b[39;00m fpath \u001b[38;5;129;01min\u001b[39;00m sys\u001b[38;5;241m.\u001b[39mmeta_path:\n",
      "\u001b[1;31mException\u001b[0m: File `'CP_regression_pipeline.py'` not found."
     ]
    }
   ],
   "source": [
    "#run CP_regression_pipeline.py --dataset simulated --sim_data_size 600 --muh_fun random_forest --threshold_type absolute --tau  10 --ntrial 100"
   ]
  },
  {
   "cell_type": "code",
   "execution_count": null,
   "id": "f365ad21-1f4e-4eba-95a6-378c6882e44c",
   "metadata": {},
   "outputs": [],
   "source": [
    "# run CP_regression_pipeline.py --dataset simulated --sim_data_size 600 --muh_fun neural_network --threshold_type absolute --tau  10 --ntrial 100"
   ]
  },
  {
   "cell_type": "markdown",
   "id": "069267b9-2a68-46fa-b4ea-b841eadc62a3",
   "metadata": {},
   "source": [
    "### Simulated Size = 800 Threshold = Absolute "
   ]
  },
  {
   "cell_type": "code",
   "execution_count": null,
   "id": "1b4e1092-b5cc-41fa-b221-a673084cc8ad",
   "metadata": {},
   "outputs": [],
   "source": [
    "# run CP_regression_pipeline.py --dataset simulated --sim_data_size 800 --muh_fun linear_regression --threshold_type absolute --tau  10 --ntrial 100"
   ]
  },
  {
   "cell_type": "code",
   "execution_count": null,
   "id": "584a332e-4274-4372-8c86-362e0b478f41",
   "metadata": {},
   "outputs": [],
   "source": [
    "# run CP_regression_pipeline.py --dataset simulated --sim_data_size 800 --muh_fun polynomial_regression --threshold_type absolute --tau  10 --ntrial 100"
   ]
  },
  {
   "cell_type": "code",
   "execution_count": null,
   "id": "7fccaddc-0ecd-45ec-a2fd-653b26eff99a",
   "metadata": {},
   "outputs": [],
   "source": [
    "# run CP_regression_pipeline.py --dataset simulated --sim_data_size 800 --muh_fun knn --threshold_type absolute --tau  10 --ntrial 100"
   ]
  },
  {
   "cell_type": "code",
   "execution_count": null,
   "id": "0d3d4fb5-9775-4196-b134-fffdf08dfce7",
   "metadata": {},
   "outputs": [],
   "source": [
    "# run CP_regression_pipeline.py --dataset simulated --sim_data_size 800 --muh_fun support_vector --threshold_type absolute --tau  10 --ntrial 100"
   ]
  },
  {
   "cell_type": "code",
   "execution_count": null,
   "id": "0031c257-9478-4a13-a513-7f8d8b42eb50",
   "metadata": {},
   "outputs": [],
   "source": [
    "#run CP_regression_pipeline.py --dataset simulated --sim_data_size 800 --muh_fun random_forest --threshold_type absolute --tau  10 --ntrial 100"
   ]
  },
  {
   "cell_type": "code",
   "execution_count": null,
   "id": "9391fbef-cdd3-4dd9-b2fe-7bf942e0265c",
   "metadata": {},
   "outputs": [],
   "source": [
    "# run CP_regression_pipeline.py --dataset simulated --sim_data_size 800 --muh_fun neural_network --threshold_type absolute --tau  10 --ntrial 100"
   ]
  },
  {
   "cell_type": "markdown",
   "id": "b140886c-ace5-4cd7-a897-a7d80bb1d7e1",
   "metadata": {},
   "source": [
    "### Simulated Size = 1000 Threshold = Absolute "
   ]
  },
  {
   "cell_type": "code",
   "execution_count": null,
   "id": "c86b4f1f-d9ce-4b0b-8cd2-af35400baa13",
   "metadata": {},
   "outputs": [],
   "source": [
    "# run CP_regression_pipeline.py --dataset simulated --sim_data_size 1000 --muh_fun linear_regression --threshold_type absolute --tau  10 --ntrial 100"
   ]
  },
  {
   "cell_type": "code",
   "execution_count": null,
   "id": "37090717-0e1c-4ad9-a044-7370433e185e",
   "metadata": {},
   "outputs": [],
   "source": [
    "# run CP_regression_pipeline.py --dataset simulated --sim_data_size 1000 --muh_fun polynomial_regression --threshold_type absolute --tau  10 --ntrial 100"
   ]
  },
  {
   "cell_type": "code",
   "execution_count": null,
   "id": "855868b1-253c-4cfd-ba79-a25563c383e9",
   "metadata": {},
   "outputs": [],
   "source": [
    "# run CP_regression_pipeline.py --dataset simulated --sim_data_size 1000 --muh_fun knn --threshold_type absolute --tau  10 --ntrial 100"
   ]
  },
  {
   "cell_type": "code",
   "execution_count": null,
   "id": "1e12eee9-094f-47bd-8d88-7881e26ae895",
   "metadata": {},
   "outputs": [],
   "source": [
    "# run CP_regression_pipeline.py --dataset simulated --sim_data_size 1000 --muh_fun support_vector --threshold_type absolute --tau  10 --ntrial 100"
   ]
  },
  {
   "cell_type": "code",
   "execution_count": null,
   "id": "6c85930e-85f0-4b9e-84bf-641cba1d712e",
   "metadata": {},
   "outputs": [],
   "source": [
    "#run CP_regression_pipeline.py --dataset simulated --sim_data_size 1000 --muh_fun random_forest --threshold_type absolute --tau  10 --ntrial 100"
   ]
  },
  {
   "cell_type": "code",
   "execution_count": null,
   "id": "115a01f7-b181-4a7c-932b-ffadbb0179cf",
   "metadata": {},
   "outputs": [],
   "source": [
    "# run CP_regression_pipeline.py --dataset simulated --sim_data_size 1000 --muh_fun neural_network --threshold_type absolute --tau  10 --ntrial 100"
   ]
  },
  {
   "cell_type": "markdown",
   "id": "59cf622f-c52d-4978-8d07-020bd4bbc836",
   "metadata": {},
   "source": [
    "### Simulated Size = 100 Threshold = Relative "
   ]
  },
  {
   "cell_type": "code",
   "execution_count": null,
   "id": "309b7ae5-df9c-44cd-bfaa-cfcc1d728715",
   "metadata": {},
   "outputs": [],
   "source": [
    "# run CP_regression_pipeline.py --dataset simulated --sim_data_size 100 --muh_fun linear_regression --threshold_type relative --tau  0.175 --ntrial 100"
   ]
  },
  {
   "cell_type": "code",
   "execution_count": null,
   "id": "523a2daf-623a-45e8-8d5f-10fb36213800",
   "metadata": {},
   "outputs": [],
   "source": [
    "# run CP_regression_pipeline.py --dataset simulated --sim_data_size 100 --muh_fun polynomial_regression --threshold_type relative --tau  0.175 --ntrial 100"
   ]
  },
  {
   "cell_type": "code",
   "execution_count": null,
   "id": "365cbac0-d091-43ce-9052-d24751184f44",
   "metadata": {},
   "outputs": [],
   "source": [
    "# run CP_regression_pipeline.py --dataset simulated --sim_data_size 100 --muh_fun knn --threshold_type relative --tau  0.175 --ntrial 100"
   ]
  },
  {
   "cell_type": "code",
   "execution_count": null,
   "id": "fcbdb3a4-db73-4eec-acc7-15ec81d06d48",
   "metadata": {},
   "outputs": [],
   "source": [
    "# run CP_regression_pipeline.py --dataset simulated --sim_data_size 100 --muh_fun support_vector --threshold_type relative --tau  0.175 --ntrial 100"
   ]
  },
  {
   "cell_type": "code",
   "execution_count": null,
   "id": "66e13aa1-6508-4eac-947f-2fb79ef7ea27",
   "metadata": {},
   "outputs": [],
   "source": [
    "#run CP_regression_pipeline.py --dataset simulated --sim_data_size 100 --muh_fun random_forest --threshold_type relative --tau  0.175 --ntrial 100"
   ]
  },
  {
   "cell_type": "code",
   "execution_count": null,
   "id": "ed8c0520-3df4-4ccc-9b96-e8e4da5fafe5",
   "metadata": {},
   "outputs": [],
   "source": [
    "# run CP_regression_pipeline.py --dataset simulated --sim_data_size 100 --muh_fun neural_network --threshold_type relative --tau  0.175 --ntrial 100"
   ]
  },
  {
   "cell_type": "markdown",
   "id": "4310995f-114a-4eb8-bf5f-cf04ca48bd0c",
   "metadata": {},
   "source": [
    "### Simulated Size = 200 Threshold = Relative "
   ]
  },
  {
   "cell_type": "code",
   "execution_count": null,
   "id": "bfe41e76-1a03-445f-87bd-816aca71a778",
   "metadata": {},
   "outputs": [],
   "source": [
    "# run CP_regression_pipeline.py --dataset simulated --sim_data_size 200 --muh_fun linear_regression --threshold_type relative --tau  0.175 --ntrial 100"
   ]
  },
  {
   "cell_type": "code",
   "execution_count": null,
   "id": "aa426931-1adf-4e9b-bfa0-7e49d8ee3a81",
   "metadata": {},
   "outputs": [],
   "source": [
    "# run CP_regression_pipeline.py --dataset simulated --sim_data_size 200 --muh_fun polynomial_regression --threshold_type relative --tau  0.175 --ntrial 100"
   ]
  },
  {
   "cell_type": "code",
   "execution_count": null,
   "id": "b10438cb-fd96-4d9b-a7aa-8eeccd0cc8b2",
   "metadata": {},
   "outputs": [],
   "source": [
    "# run CP_regression_pipeline.py --dataset simulated --sim_data_size 200 --muh_fun knn --threshold_type relative --tau  0.175 --ntrial 100"
   ]
  },
  {
   "cell_type": "code",
   "execution_count": null,
   "id": "f751f386-fab1-4be3-ba2a-0f0b251b7629",
   "metadata": {},
   "outputs": [],
   "source": [
    "# run CP_regression_pipeline.py --dataset simulated --sim_data_size 200 --muh_fun support_vector --threshold_type relative --tau  0.175 --ntrial 100"
   ]
  },
  {
   "cell_type": "code",
   "execution_count": null,
   "id": "94ab8ef3-9849-406a-9f57-0428e342cc6a",
   "metadata": {},
   "outputs": [],
   "source": [
    "#run CP_regression_pipeline.py --dataset simulated --sim_data_size 200 --muh_fun random_forest --threshold_type relative --tau  0.175 --ntrial 100"
   ]
  },
  {
   "cell_type": "code",
   "execution_count": null,
   "id": "98a77206-20f6-4850-add9-20ec9f24a963",
   "metadata": {},
   "outputs": [],
   "source": [
    "# run CP_regression_pipeline.py --dataset simulated --sim_data_size 200 --muh_fun neural_network --threshold_type relative --tau  0.175 --ntrial 100"
   ]
  },
  {
   "cell_type": "markdown",
   "id": "ba862e9a-cf88-491a-aa20-a7ffd10fa5fa",
   "metadata": {},
   "source": [
    "### Simulated Size = 400 Threshold = Relative "
   ]
  },
  {
   "cell_type": "code",
   "execution_count": null,
   "id": "880d0088-10ef-4b88-b2e7-d819c61fd5c3",
   "metadata": {},
   "outputs": [],
   "source": [
    "# run CP_regression_pipeline.py --dataset simulated --sim_data_size 400 --muh_fun linear_regression --threshold_type relative --tau  0.175 --ntrial 100"
   ]
  },
  {
   "cell_type": "code",
   "execution_count": null,
   "id": "df7f318b-d371-4d88-a61d-4edf0e176f13",
   "metadata": {},
   "outputs": [],
   "source": [
    "# run CP_regression_pipeline.py --dataset simulated --sim_data_size 400 --muh_fun polynomial_regression --threshold_type relative --tau  0.175 --ntrial 100"
   ]
  },
  {
   "cell_type": "code",
   "execution_count": null,
   "id": "05f8ba3b-08f9-4b93-9ab0-fc521510dc04",
   "metadata": {},
   "outputs": [],
   "source": [
    "# run CP_regression_pipeline.py --dataset simulated --sim_data_size 400 --muh_fun knn --threshold_type relative --tau  0.175 --ntrial 100"
   ]
  },
  {
   "cell_type": "code",
   "execution_count": null,
   "id": "4ec45574-0a6c-4ee5-9e79-e1ec1e29be2f",
   "metadata": {},
   "outputs": [],
   "source": [
    "# run CP_regression_pipeline.py --dataset simulated --sim_data_size 400 --muh_fun support_vector --threshold_type relative --tau  0.175 --ntrial 100"
   ]
  },
  {
   "cell_type": "code",
   "execution_count": null,
   "id": "7fb7bdab-781d-42e8-8dad-8127c785576e",
   "metadata": {},
   "outputs": [],
   "source": [
    "#run CP_regression_pipeline.py --dataset simulated --sim_data_size 400 --muh_fun random_forest --threshold_type relative --tau  0.175 --ntrial 100"
   ]
  },
  {
   "cell_type": "code",
   "execution_count": null,
   "id": "a85d0c4e-2a6e-4b34-8685-26b6dc002675",
   "metadata": {},
   "outputs": [],
   "source": [
    "# run CP_regression_pipeline.py --dataset simulated --sim_data_size 400 --muh_fun neural_network --threshold_type relative --tau  0.175 --ntrial 100"
   ]
  },
  {
   "cell_type": "markdown",
   "id": "cf7bbd5d-9df7-4dd0-9584-8c4f7ff32c94",
   "metadata": {},
   "source": [
    "### Simulated Size = 600 Threshold = Relative  "
   ]
  },
  {
   "cell_type": "code",
   "execution_count": null,
   "id": "0faa0bff-2de2-4eea-b11a-99ea0f2972db",
   "metadata": {},
   "outputs": [],
   "source": [
    "# run CP_regression_pipeline.py --dataset simulated --sim_data_size 600 --muh_fun linear_regression --threshold_type relative --tau  0.175 --ntrial 100"
   ]
  },
  {
   "cell_type": "code",
   "execution_count": null,
   "id": "00133ebc-32e3-4146-bb60-b5a1e4254e3c",
   "metadata": {},
   "outputs": [],
   "source": [
    "# run CP_regression_pipeline.py --dataset simulated --sim_data_size 600 --muh_fun polynomial_regression --threshold_type relative --tau  0.175 --ntrial 100"
   ]
  },
  {
   "cell_type": "code",
   "execution_count": null,
   "id": "b2604748-98a9-494b-bfc6-2387a38b4d88",
   "metadata": {},
   "outputs": [],
   "source": [
    "# run CP_regression_pipeline.py --dataset simulated --sim_data_size 600 --muh_fun knn --threshold_type relative --tau  0.175 --ntrial 100"
   ]
  },
  {
   "cell_type": "code",
   "execution_count": null,
   "id": "c9f3dd49-8007-4e1a-9c6d-03d162f6bb0e",
   "metadata": {},
   "outputs": [],
   "source": [
    "# run CP_regression_pipeline.py --dataset simulated --sim_data_size 600 --muh_fun support_vector --threshold_type relative --tau  0.175 --ntrial 100"
   ]
  },
  {
   "cell_type": "code",
   "execution_count": null,
   "id": "278ae5a6-b161-4bff-bfc7-78c0af16c165",
   "metadata": {},
   "outputs": [],
   "source": [
    "#run CP_regression_pipeline.py --dataset simulated --sim_data_size 600 --muh_fun random_forest --threshold_type relative --tau  0.175 --ntrial 100"
   ]
  },
  {
   "cell_type": "code",
   "execution_count": null,
   "id": "2bbd727c-7481-4d08-ad2f-21f0810d4eb8",
   "metadata": {},
   "outputs": [],
   "source": [
    "# run CP_regression_pipeline.py --dataset simulated --sim_data_size 600 --muh_fun neural_network --threshold_type relative --tau  0.175 --ntrial 100"
   ]
  },
  {
   "cell_type": "markdown",
   "id": "9d84f878-56a1-407d-9e65-cc348e6f79a2",
   "metadata": {},
   "source": [
    "### Simulated Size = 800 Threshold = Relative "
   ]
  },
  {
   "cell_type": "code",
   "execution_count": null,
   "id": "fe6940e7-cf2d-420b-bc65-739c3e6e54aa",
   "metadata": {},
   "outputs": [],
   "source": [
    "# run CP_regression_pipeline.py --dataset simulated --sim_data_size 800 --muh_fun linear_regression --threshold_type relative --tau  0.175 --ntrial 100"
   ]
  },
  {
   "cell_type": "code",
   "execution_count": null,
   "id": "25c7c992-1209-4d7b-8818-35ee74d37412",
   "metadata": {},
   "outputs": [],
   "source": [
    "# run CP_regression_pipeline.py --dataset simulated --sim_data_size 800 --muh_fun polynomial_regression --threshold_type relative --tau  0.175 --ntrial 100"
   ]
  },
  {
   "cell_type": "code",
   "execution_count": null,
   "id": "02c8f074-cd01-4117-9777-d7ec47f56d13",
   "metadata": {},
   "outputs": [],
   "source": [
    "# run CP_regression_pipeline.py --dataset simulated --sim_data_size 800 --muh_fun knn --threshold_type relative --tau  0.175 --ntrial 100"
   ]
  },
  {
   "cell_type": "code",
   "execution_count": null,
   "id": "cff8304a-4b4a-4e0f-8666-cc6c5847a54f",
   "metadata": {},
   "outputs": [],
   "source": [
    "# run CP_regression_pipeline.py --dataset simulated --sim_data_size 800 --muh_fun support_vector --threshold_type relative --tau  0.175 --ntrial 100"
   ]
  },
  {
   "cell_type": "code",
   "execution_count": null,
   "id": "7edf3980-4114-437d-a040-97591f5f81ed",
   "metadata": {},
   "outputs": [],
   "source": [
    "#run CP_regression_pipeline.py --dataset simulated --sim_data_size 800 --muh_fun random_forest --threshold_type relative --tau  0.175 --ntrial 100"
   ]
  },
  {
   "cell_type": "code",
   "execution_count": null,
   "id": "dd71d0d7-809c-4cd6-a53f-453118439280",
   "metadata": {},
   "outputs": [],
   "source": [
    "# run CP_regression_pipeline.py --dataset simulated --sim_data_size 800 --muh_fun neural_network --threshold_type relative --tau  0.175 --ntrial 100"
   ]
  },
  {
   "cell_type": "markdown",
   "id": "31b4b123-adea-440b-8412-6ca1046be5d0",
   "metadata": {},
   "source": [
    "### Simulated Size = 1000 Threshold = Relative "
   ]
  },
  {
   "cell_type": "code",
   "execution_count": null,
   "id": "eb36b890-3336-4b98-8f85-83fac3c75bba",
   "metadata": {},
   "outputs": [],
   "source": [
    "# run CP_regression_pipeline.py --dataset simulated --sim_data_size 1000 --muh_fun linear_regression --threshold_type relative --tau  0.175 --ntrial 100"
   ]
  },
  {
   "cell_type": "code",
   "execution_count": null,
   "id": "d908bbc1-3407-4655-8c3c-2f02b3221124",
   "metadata": {},
   "outputs": [],
   "source": [
    "# run CP_regression_pipeline.py --dataset simulated --sim_data_size 1000 --muh_fun polynomial_regression --threshold_type relative --tau  0.175 --ntrial 100"
   ]
  },
  {
   "cell_type": "code",
   "execution_count": null,
   "id": "70dab4dc-ad2e-4277-a6cf-398c706c346a",
   "metadata": {},
   "outputs": [],
   "source": [
    "# run CP_regression_pipeline.py --dataset simulated --sim_data_size 1000 --muh_fun knn --threshold_type relative --tau  0.175 --ntrial 100"
   ]
  },
  {
   "cell_type": "code",
   "execution_count": null,
   "id": "beef3b87-dacd-4dd2-9aba-6722ed4ca0d6",
   "metadata": {},
   "outputs": [],
   "source": [
    "# run CP_regression_pipeline.py --dataset simulated --sim_data_size 1000 --muh_fun support_vector --threshold_type relative --tau  0.175 --ntrial 100"
   ]
  },
  {
   "cell_type": "code",
   "execution_count": null,
   "id": "ff55e76d-0292-4070-aff8-028dbcf5041c",
   "metadata": {},
   "outputs": [],
   "source": [
    "#run CP_regression_pipeline.py --dataset simulated --sim_data_size 1000 --muh_fun random_forest --threshold_type relative --tau  0.175 --ntrial 100"
   ]
  },
  {
   "cell_type": "code",
   "execution_count": null,
   "id": "bc6556eb-934e-495c-bd66-233691f56a01",
   "metadata": {},
   "outputs": [],
   "source": [
    "# run CP_regression_pipeline.py --dataset simulated --sim_data_size 1000 --muh_fun neural_network --threshold_type relative --tau  0.175 --ntrial 100"
   ]
  }
 ],
 "metadata": {
  "kernelspec": {
   "display_name": "Python 3 (ipykernel)",
   "language": "python",
   "name": "python3"
  },
  "language_info": {
   "codemirror_mode": {
    "name": "ipython",
    "version": 3
   },
   "file_extension": ".py",
   "mimetype": "text/x-python",
   "name": "python",
   "nbconvert_exporter": "python",
   "pygments_lexer": "ipython3",
   "version": "3.9.12"
  }
 },
 "nbformat": 4,
 "nbformat_minor": 5
}
