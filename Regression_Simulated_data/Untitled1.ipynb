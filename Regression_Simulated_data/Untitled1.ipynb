{
 "cells": [
  {
   "cell_type": "code",
   "execution_count": 1,
   "id": "0361d0ca-fe45-41ae-a25d-3be9d2b8e62f",
   "metadata": {},
   "outputs": [],
   "source": [
    "from helper_fns import *"
   ]
  },
  {
   "cell_type": "code",
   "execution_count": 2,
   "id": "04d57572-d7a9-43b8-a6a5-6d5ead91f2f4",
   "metadata": {},
   "outputs": [],
   "source": [
    "def f(a, x):\n",
    "    return a*x**2 + x"
   ]
  },
  {
   "cell_type": "code",
   "execution_count": 8,
   "id": "ee1c19b2-b562-4512-ae5a-6c747c16f6a1",
   "metadata": {},
   "outputs": [
    {
     "data": {
      "text/plain": [
       "134.00673400673404"
      ]
     },
     "execution_count": 8,
     "metadata": {},
     "output_type": "execute_result"
    }
   ],
   "source": [
    "np.mean(f(100,X) - X)"
   ]
  },
  {
   "cell_type": "code",
   "execution_count": 10,
   "id": "6840b165-64f7-4350-aae3-8c4b2b44c828",
   "metadata": {},
   "outputs": [],
   "source": [
    "n = 1000\n",
    "a = 20"
   ]
  },
  {
   "cell_type": "code",
   "execution_count": 17,
   "id": "2351bfea-68b4-45d7-8d1a-a5d5d302ee5b",
   "metadata": {},
   "outputs": [],
   "source": [
    "X = np.linspace(0, 2, n)\n",
    "Y = f(a,X) + np.random.normal(loc = 0, size = n)"
   ]
  },
  {
   "cell_type": "code",
   "execution_count": 18,
   "id": "3c5d9c60-28c5-4087-9c97-dbdc5dbf56ec",
   "metadata": {},
   "outputs": [],
   "source": [
    "X_train, Y_train, X_test, Y_test = generate_data_for_trials(1, int(0.8*n), n, X, Y)"
   ]
  },
  {
   "cell_type": "code",
   "execution_count": 19,
   "id": "496d317c-2c89-425e-954f-5bfd9cd2e6db",
   "metadata": {},
   "outputs": [],
   "source": [
    "X_train = X_train[0]\n",
    "Y_train = Y_train[0]\n",
    "X_test = X_test[0]\n",
    "Y_test = Y_test[0]"
   ]
  },
  {
   "cell_type": "code",
   "execution_count": 20,
   "id": "b71f7647-7b72-4ab0-8a02-092aecbde6e2",
   "metadata": {},
   "outputs": [],
   "source": [
    "reg = LinearRegression().fit(X_train.reshape(-1, 1), Y_train.reshape(-1, 1))"
   ]
  },
  {
   "cell_type": "code",
   "execution_count": 21,
   "id": "009a3fa4-5373-45f0-adf6-888e818daadd",
   "metadata": {},
   "outputs": [
    {
     "data": {
      "text/plain": [
       "0.06973055232638835"
      ]
     },
     "execution_count": 21,
     "metadata": {},
     "output_type": "execute_result"
    }
   ],
   "source": [
    "np.mean(Y_test - reg.predict(X_test.reshape(-1, 1)))"
   ]
  }
 ],
 "metadata": {
  "kernelspec": {
   "display_name": "Python 3 (ipykernel)",
   "language": "python",
   "name": "python3"
  },
  "language_info": {
   "codemirror_mode": {
    "name": "ipython",
    "version": 3
   },
   "file_extension": ".py",
   "mimetype": "text/x-python",
   "name": "python",
   "nbconvert_exporter": "python",
   "pygments_lexer": "ipython3",
   "version": "3.9.12"
  }
 },
 "nbformat": 4,
 "nbformat_minor": 5
}
