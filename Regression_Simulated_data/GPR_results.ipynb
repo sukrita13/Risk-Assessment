{
 "cells": [
  {
   "cell_type": "code",
   "execution_count": 1,
   "id": "163af7b0-77eb-4ff5-af80-38974f6f0870",
   "metadata": {},
   "outputs": [],
   "source": [
    "from helper_fns import *"
   ]
  },
  {
   "cell_type": "code",
   "execution_count": 2,
   "id": "e6c45bc8-d133-4af9-90fa-3adf15474d38",
   "metadata": {},
   "outputs": [],
   "source": [
    "import os,sys\n",
    "from IPython.display import Image"
   ]
  },
  {
   "cell_type": "code",
   "execution_count": 3,
   "id": "19d5f64e-7cdd-47cf-8799-1e1880cf0c3c",
   "metadata": {},
   "outputs": [],
   "source": [
    "dataset = 'simulated'\n",
    "threshold_type = 'absolute'"
   ]
  },
  {
   "cell_type": "code",
   "execution_count": 4,
   "id": "3489f669-980d-4a49-bd7e-55155a40c21c",
   "metadata": {},
   "outputs": [],
   "source": [
    "cp_types = ['CV+','Split']\n",
    "model = 'gpr'\n",
    "bias = 0\n",
    "tau = 10\n",
    "ntrial = 100\n",
    "sim_data_size = 1000\n",
    "sigma_eps = 5"
   ]
  },
  {
   "cell_type": "code",
   "execution_count": 5,
   "id": "42f36031-c2cc-4ab3-ad91-513950f55d38",
   "metadata": {},
   "outputs": [],
   "source": [
    "filler = '/No_bias/sim_data_size_' + str(sim_data_size) + '/'"
   ]
  },
  {
   "cell_type": "markdown",
   "id": "2479b54f-7186-4487-b5cb-dbf80c83b3cb",
   "metadata": {
    "tags": []
   },
   "source": [
    "### Define variables and load in data"
   ]
  },
  {
   "cell_type": "code",
   "execution_count": 6,
   "id": "9594fa1e-997d-4817-b61b-f7ece0468553",
   "metadata": {},
   "outputs": [],
   "source": [
    "simulated_data = pd.read_csv('0.Datasets/simulated/simulated_data.csv')\n",
    "X_simulated = simulated_data.iloc[:, 0:2].values\n",
    "Y_simulated = simulated_data.iloc[:, 2].values\n",
    "n_simulated = len(Y_simulated)"
   ]
  },
  {
   "cell_type": "code",
   "execution_count": 7,
   "id": "67b394f2-1c62-43b5-a0fc-95df18d13f7a",
   "metadata": {},
   "outputs": [],
   "source": [
    "n_total = len(Y_simulated)\n",
    "n_train = int(0.7*n_total)\n",
    "n_test = n_total - n_train"
   ]
  },
  {
   "cell_type": "markdown",
   "id": "88cbc669-1fe6-40b7-b818-22f36010d6dd",
   "metadata": {},
   "source": [
    "### GPR (Backend) Calcs"
   ]
  },
  {
   "cell_type": "code",
   "execution_count": 8,
   "id": "bcafb850-8f4a-474e-bf03-1bfa33fadeec",
   "metadata": {},
   "outputs": [],
   "source": [
    "np.random.seed(98765)\n",
    "\n",
    "#Standardize data\n",
    "scaler_X = StandardScaler()\n",
    "scaler_y = StandardScaler()\n",
    "\n",
    "X_scaled = scaler_X.fit_transform(eval('X_' + dataset))\n",
    "Y_scaled = scaler_y.fit_transform(eval('Y_' + dataset).reshape(-1, 1)).ravel()\n",
    "\n",
    "y_scale_factor = scaler_y.scale_\n",
    "y_mean = scaler_y.mean_\n",
    "\n",
    "x_scale_factor = scaler_X.scale_\n",
    "x_mean = scaler_X.mean_"
   ]
  },
  {
   "cell_type": "code",
   "execution_count": 9,
   "id": "45acc703-f477-41b0-b85b-6c91c4993a43",
   "metadata": {
    "tags": []
   },
   "outputs": [],
   "source": [
    "X_train, Y_train, X_test, Y_test = generate_data_for_trials(ntrial, n_train, n_total, \\\n",
    "                                                 X_scaled, Y_scaled, bias)"
   ]
  },
  {
   "cell_type": "code",
   "execution_count": 10,
   "id": "d6f7c7dc-5b87-492f-a39a-26b86cfc90dc",
   "metadata": {},
   "outputs": [],
   "source": [
    "# kernel = RationalQuadratic(alpha = 1.0, length_scale = 1.0)\n",
    "# gp = GaussianProcessRegressor(kernel = kernel, n_restarts_optimizer = 10)"
   ]
  },
  {
   "cell_type": "code",
   "execution_count": 11,
   "id": "754cd110-fb94-4ec4-bfe1-02dd87ad5656",
   "metadata": {
    "tags": []
   },
   "outputs": [],
   "source": [
    "# for i in tqdm.tqdm(range(ntrial)):\n",
    "    \n",
    "#     #Get data for ith trial\n",
    "#     X_train_trial = X_train[i]\n",
    "#     Y_train_trial = Y_train[i]\n",
    "#     X_test_trial = X_test[i]\n",
    "    \n",
    "#     #Fit to training data\n",
    "#     gp.fit(X_train_trial, Y_train_trial)\n",
    "    \n",
    "#     # Make predictions on new data points\n",
    "#     Y_pred_scaled, sigma_scaled = gp.predict(X_test_trial, return_std = True)\n",
    "    \n",
    "#     #Rescale predictions\n",
    "#     Y_pred = Y_pred_scaled * y_scale_factor + y_mean\n",
    "#     sigma = sigma_scaled * y_scale_factor\n",
    "\n",
    "#     pd.DataFrame(Y_pred).to_csv(dataset + '/No_bias/sim_data_size_1000/GPR/y_pred_' + str(int(i)) + '.csv', index = False)\n",
    "#     pd.DataFrame(sigma).to_csv(dataset + '/No_bias/sim_data_size_1000/GPR/sigma_pred_' + str(int(i)) + '.csv', index = False)"
   ]
  },
  {
   "cell_type": "code",
   "execution_count": 12,
   "id": "db745450-d045-4a4f-b8f3-8417567da7eb",
   "metadata": {},
   "outputs": [],
   "source": [
    "# sigma_pred_by_trial = []\n",
    "# Y_pred_by_trial = []\n",
    "\n",
    "# for i in range(ntrial):\n",
    "    \n",
    "#     sigma_pred_by_trial.append(pd.read_csv(dataset + '/No_bias/sim_data_size_1000/GPR/sigma_pred_' + str(int(i)) + '.csv')['0'].values)\n",
    "#     Y_pred_by_trial.append(pd.read_csv(dataset + '/No_bias/sim_data_size_1000/GPR/Y_pred_' + str(int(i)) + '.csv')['0'].values)\n",
    "\n",
    "# pd.DataFrame(sigma_pred_by_trial).to_csv(dataset + '/No_bias/sim_data_size_1000/GPR_' + str(ntrial) + 'Trial_' + 'Sigmas.csv', index = False)\n",
    "# pd.DataFrame(Y_pred_by_trial).to_csv(dataset + '/No_bias/sim_data_size_1000/GPR_' + str(ntrial) + 'Trial_' + 'Preds.csv', index = False)"
   ]
  },
  {
   "cell_type": "code",
   "execution_count": 17,
   "id": "9de3a0d5-2476-4254-9649-dbd98ba3c94d",
   "metadata": {},
   "outputs": [],
   "source": [
    "def results_by_tau(dataset_to_use, filler, muh_fun_name, ntrial, X1_by_trial, Y1_by_trial, PDs_data, Res_data, \\\n",
    "                   threshold_type, tau_to_use, sigma_eps = None):\n",
    "    \n",
    "    if (dataset_to_use == 'simulated'):\n",
    "        prob_true = generate_true_probs(ntrial, X1_by_trial, Y1_by_trial, PDs_data, \\\n",
    "                                        threshold_type, tau_to_use, sigma_eps)\n",
    "        pd.DataFrame(prob_true).to_csv(dataset_to_use + filler + 'Threshold_type_' + str(threshold_type) \\\n",
    "                                + '/' + muh_fun_name + '/JAWS_coverage_by_trial/true_prob.csv')\n",
    "        \n",
    "    prob_methods = [ 'CV_plus',  'CV', 'split']\n",
    "    \n",
    "#     jackknife_plus_probs = []\n",
    "#     jackknife_probs = []\n",
    "#     wt_jackknife_plus_probs = []\n",
    "    \n",
    "    CV_plus_probs = []\n",
    "    CV_probs = []\n",
    "    wt_CV_plus_probs = []\n",
    "    \n",
    "    split_probs = []\n",
    "    wt_split_probs = []\n",
    "    \n",
    "    for j in tqdm.tqdm(range(ntrial)):\n",
    "        PDs_itrial = PDs_data[PDs_data['itrial'] == j]\n",
    "        Res_itrial = Res_data[Res_data['itrial'] == j]\n",
    "        \n",
    "        for i in range(len(prob_methods)):\n",
    "            eval(prob_methods[i] + '_probs').append(generate_prob_results_by_tau(prob_methods[i], PDs_itrial, Res_itrial, threshold_type, tau_to_use))\n",
    "    \n",
    "    for i in range(len(prob_methods)):\n",
    "        pd.DataFrame(eval(prob_methods[i] + '_probs')).to_csv(dataset_to_use + filler + 'Threshold_type_' + str(threshold_type) + '/' +\\\n",
    "                                          muh_fun_name + '/JAWS_coverage_by_trial/' + str(prob_methods[i]) + '.csv')\n",
    "\n",
    "    return None\n"
   ]
  },
  {
   "cell_type": "code",
   "execution_count": 18,
   "id": "a6f4f2c0-cda4-4009-9a80-74bb2fab17d6",
   "metadata": {},
   "outputs": [
    {
     "name": "stderr",
     "output_type": "stream",
     "text": [
      "  0%|                                                                                          | 0/100 [00:00<?, ?it/s]C:\\Users\\n220572\\OneDrive - Munich Re\\Documents - Insure AI\\3 - Research and Knowledge\\Code\\JAWS_experiments_Sukrita\\Experiment 1\\helper_fns.py:422: UserWarning: Boolean Series key will be reindexed to match DataFrame index.\n",
      "  y_pred = PDs_data[PDs_data['method'] == 'muh_vals_testpoint'][PDs_data['itrial'] == itrial].iloc[:,5:5+len(y_test)].values[0]\n",
      "100%|████████████████████████████████████████████████████████████████████████████████| 100/100 [00:07<00:00, 13.51it/s]\n",
      "100%|████████████████████████████████████████████████████████████████████████████████| 100/100 [09:37<00:00,  5.77s/it]\n"
     ]
    }
   ],
   "source": [
    "results_by_tau(dataset, filler, model, ntrial, X_test* x_scale_factor + x_mean, \\\n",
    "               Y_test* y_scale_factor + y_mean, PDs_all, Res_all, threshold_type, tau, sigma_eps)"
   ]
  },
  {
   "cell_type": "code",
   "execution_count": 14,
   "id": "9781af5e-6acd-4e9e-8137-0efece43780a",
   "metadata": {},
   "outputs": [
    {
     "name": "stderr",
     "output_type": "stream",
     "text": [
      "  0%|                                                                                          | 0/100 [00:00<?, ?it/s]C:\\Users\\n220572\\OneDrive - Munich Re\\Documents - Insure AI\\3 - Research and Knowledge\\Code\\JAWS_experiments_Sukrita\\Experiment 1\\helper_fns.py:422: UserWarning: Boolean Series key will be reindexed to match DataFrame index.\n",
      "  y_pred = PDs_data[PDs_data['method'] == 'muh_vals_testpoint'][PDs_data['itrial'] == itrial].iloc[:,5:5+len(y_test)].values[0]\n",
      "100%|████████████████████████████████████████████████████████████████████████████████| 100/100 [00:08<00:00, 11.50it/s]\n",
      "  0%|                                                                                          | 0/100 [00:02<?, ?it/s]\n"
     ]
    },
    {
     "ename": "TypeError",
     "evalue": "cannot convert the series to <class 'float'>",
     "output_type": "error",
     "traceback": [
      "\u001b[1;31m---------------------------------------------------------------------------\u001b[0m",
      "\u001b[1;31mTypeError\u001b[0m                                 Traceback (most recent call last)",
      "Input \u001b[1;32mIn [14]\u001b[0m, in \u001b[0;36m<cell line: 4>\u001b[1;34m()\u001b[0m\n\u001b[0;32m      1\u001b[0m Res_all \u001b[38;5;241m=\u001b[39m pd\u001b[38;5;241m.\u001b[39mread_csv(dataset \u001b[38;5;241m+\u001b[39m filler \u001b[38;5;241m+\u001b[39m model \u001b[38;5;241m+\u001b[39m \u001b[38;5;124m'\u001b[39m\u001b[38;5;124m_\u001b[39m\u001b[38;5;124m'\u001b[39m \u001b[38;5;241m+\u001b[39m \u001b[38;5;28mstr\u001b[39m(ntrial) \u001b[38;5;241m+\u001b[39m \u001b[38;5;124m'\u001b[39m\u001b[38;5;124mTrial\u001b[39m\u001b[38;5;124m'\u001b[39m  \u001b[38;5;241m+\u001b[39m\u001b[38;5;124m'\u001b[39m\u001b[38;5;124m_Res.csv\u001b[39m\u001b[38;5;124m'\u001b[39m)\n\u001b[0;32m      2\u001b[0m PDs_all \u001b[38;5;241m=\u001b[39m pd\u001b[38;5;241m.\u001b[39mread_csv(dataset \u001b[38;5;241m+\u001b[39m filler \u001b[38;5;241m+\u001b[39m model \u001b[38;5;241m+\u001b[39m \u001b[38;5;124m'\u001b[39m\u001b[38;5;124m_\u001b[39m\u001b[38;5;124m'\u001b[39m \u001b[38;5;241m+\u001b[39m \u001b[38;5;28mstr\u001b[39m(ntrial) \u001b[38;5;241m+\u001b[39m \u001b[38;5;124m'\u001b[39m\u001b[38;5;124mTrial\u001b[39m\u001b[38;5;124m'\u001b[39m  \u001b[38;5;241m+\u001b[39m\u001b[38;5;124m'\u001b[39m\u001b[38;5;124m_PDs.csv\u001b[39m\u001b[38;5;124m'\u001b[39m)\n\u001b[1;32m----> 4\u001b[0m \u001b[43mresults_by_tau\u001b[49m\u001b[43m(\u001b[49m\u001b[43mdataset\u001b[49m\u001b[43m,\u001b[49m\u001b[43m \u001b[49m\u001b[43mfiller\u001b[49m\u001b[43m,\u001b[49m\u001b[43m \u001b[49m\u001b[43mmodel\u001b[49m\u001b[43m,\u001b[49m\u001b[43m \u001b[49m\u001b[43mntrial\u001b[49m\u001b[43m,\u001b[49m\u001b[43m \u001b[49m\u001b[43mX_test\u001b[49m\u001b[38;5;241;43m*\u001b[39;49m\u001b[43m \u001b[49m\u001b[43mx_scale_factor\u001b[49m\u001b[43m \u001b[49m\u001b[38;5;241;43m+\u001b[39;49m\u001b[43m \u001b[49m\u001b[43mx_mean\u001b[49m\u001b[43m,\u001b[49m\u001b[43m \u001b[49m\u001b[43m\\\u001b[49m\n\u001b[0;32m      5\u001b[0m \u001b[43m               \u001b[49m\u001b[43mY_test\u001b[49m\u001b[38;5;241;43m*\u001b[39;49m\u001b[43m \u001b[49m\u001b[43my_scale_factor\u001b[49m\u001b[43m \u001b[49m\u001b[38;5;241;43m+\u001b[39;49m\u001b[43m \u001b[49m\u001b[43my_mean\u001b[49m\u001b[43m,\u001b[49m\u001b[43m \u001b[49m\u001b[43mPDs_all\u001b[49m\u001b[43m,\u001b[49m\u001b[43m \u001b[49m\u001b[43mRes_all\u001b[49m\u001b[43m,\u001b[49m\u001b[43m \u001b[49m\u001b[43mthreshold_type\u001b[49m\u001b[43m,\u001b[49m\u001b[43m \u001b[49m\u001b[43mtau\u001b[49m\u001b[43m,\u001b[49m\u001b[43m \u001b[49m\u001b[43msigma_eps\u001b[49m\u001b[43m)\u001b[49m\n",
      "File \u001b[1;32m~\\OneDrive - Munich Re\\Documents - Insure AI\\3 - Research and Knowledge\\Code\\JAWS_experiments_Sukrita\\Experiment 1\\helper_fns.py:597\u001b[0m, in \u001b[0;36mresults_by_tau\u001b[1;34m(dataset_to_use, filler, muh_fun_name, ntrial, X1_by_trial, Y1_by_trial, PDs_data, Res_data, threshold_type, tau_to_use, sigma_eps)\u001b[0m\n\u001b[0;32m    594\u001b[0m     Res_itrial \u001b[38;5;241m=\u001b[39m Res_data[Res_data[\u001b[38;5;124m'\u001b[39m\u001b[38;5;124mitrial\u001b[39m\u001b[38;5;124m'\u001b[39m] \u001b[38;5;241m==\u001b[39m j]\n\u001b[0;32m    596\u001b[0m     \u001b[38;5;28;01mfor\u001b[39;00m i \u001b[38;5;129;01min\u001b[39;00m \u001b[38;5;28mrange\u001b[39m(\u001b[38;5;28mlen\u001b[39m(prob_methods)):\n\u001b[1;32m--> 597\u001b[0m         \u001b[38;5;28meval\u001b[39m(prob_methods[i] \u001b[38;5;241m+\u001b[39m \u001b[38;5;124m'\u001b[39m\u001b[38;5;124m_probs\u001b[39m\u001b[38;5;124m'\u001b[39m)\u001b[38;5;241m.\u001b[39mappend(\u001b[43mgenerate_prob_results_by_tau\u001b[49m\u001b[43m(\u001b[49m\u001b[43mprob_methods\u001b[49m\u001b[43m[\u001b[49m\u001b[43mi\u001b[49m\u001b[43m]\u001b[49m\u001b[43m,\u001b[49m\u001b[43m \u001b[49m\u001b[43mPDs_itrial\u001b[49m\u001b[43m,\u001b[49m\u001b[43m \u001b[49m\u001b[43mRes_itrial\u001b[49m\u001b[43m,\u001b[49m\u001b[43m \u001b[49m\u001b[43mthreshold_type\u001b[49m\u001b[43m,\u001b[49m\u001b[43m \u001b[49m\u001b[43mtau_to_use\u001b[49m\u001b[43m)\u001b[49m)\n\u001b[0;32m    599\u001b[0m \u001b[38;5;28;01mfor\u001b[39;00m i \u001b[38;5;129;01min\u001b[39;00m \u001b[38;5;28mrange\u001b[39m(\u001b[38;5;28mlen\u001b[39m(prob_methods)):\n\u001b[0;32m    600\u001b[0m     pd\u001b[38;5;241m.\u001b[39mDataFrame(\u001b[38;5;28meval\u001b[39m(prob_methods[i] \u001b[38;5;241m+\u001b[39m \u001b[38;5;124m'\u001b[39m\u001b[38;5;124m_probs\u001b[39m\u001b[38;5;124m'\u001b[39m))\u001b[38;5;241m.\u001b[39mto_csv(dataset_to_use \u001b[38;5;241m+\u001b[39m filler \u001b[38;5;241m+\u001b[39m \u001b[38;5;124m'\u001b[39m\u001b[38;5;124mThreshold_type_\u001b[39m\u001b[38;5;124m'\u001b[39m \u001b[38;5;241m+\u001b[39m \u001b[38;5;28mstr\u001b[39m(threshold_type) \u001b[38;5;241m+\u001b[39m \u001b[38;5;124m'\u001b[39m\u001b[38;5;124m/\u001b[39m\u001b[38;5;124m'\u001b[39m \u001b[38;5;241m+\u001b[39m\\\n\u001b[0;32m    601\u001b[0m                                       muh_fun_name \u001b[38;5;241m+\u001b[39m \u001b[38;5;124m'\u001b[39m\u001b[38;5;124m/JAWS_coverage_by_trial/\u001b[39m\u001b[38;5;124m'\u001b[39m \u001b[38;5;241m+\u001b[39m \u001b[38;5;28mstr\u001b[39m(prob_methods[i]) \u001b[38;5;241m+\u001b[39m \u001b[38;5;124m'\u001b[39m\u001b[38;5;124m.csv\u001b[39m\u001b[38;5;124m'\u001b[39m)\n",
      "File \u001b[1;32m~\\OneDrive - Munich Re\\Documents - Insure AI\\3 - Research and Knowledge\\Code\\JAWS_experiments_Sukrita\\Experiment 1\\helper_fns.py:557\u001b[0m, in \u001b[0;36mgenerate_prob_results_by_tau\u001b[1;34m(method, PDs_itrial, Res_itrial, threshold_type, tau_to_use)\u001b[0m\n\u001b[0;32m    555\u001b[0m     probs\u001b[38;5;241m.\u001b[39mappend(prob_by_pred_dists(PDs_itrial, y_pred_lower, y_pred_upper, test_pt, \u001b[38;5;124m'\u001b[39m\u001b[38;5;124mjackknife+_sorted\u001b[39m\u001b[38;5;124m'\u001b[39m))\n\u001b[0;32m    556\u001b[0m \u001b[38;5;28;01melif\u001b[39;00m (method \u001b[38;5;241m==\u001b[39m \u001b[38;5;124m'\u001b[39m\u001b[38;5;124mwt_jackknife_plus\u001b[39m\u001b[38;5;124m'\u001b[39m):\n\u001b[1;32m--> 557\u001b[0m     probs\u001b[38;5;241m.\u001b[39mappend(\u001b[43mprob_interval_JAW\u001b[49m\u001b[43m(\u001b[49m\u001b[43mPDs_itrial\u001b[49m\u001b[43m,\u001b[49m\u001b[43m \u001b[49m\u001b[43my_pred_lower\u001b[49m\u001b[43m,\u001b[49m\u001b[43m \u001b[49m\u001b[43my_pred_upper\u001b[49m\u001b[43m,\u001b[49m\u001b[43m \u001b[49m\u001b[43mtest_pt\u001b[49m\u001b[43m,\u001b[49m\u001b[43m \u001b[49m\u001b[38;5;124;43m'\u001b[39;49m\u001b[38;5;124;43mjackknife+\u001b[39;49m\u001b[38;5;124;43m'\u001b[39;49m\u001b[43m)\u001b[49m)\n\u001b[0;32m    558\u001b[0m \u001b[38;5;28;01melif\u001b[39;00m (method \u001b[38;5;241m==\u001b[39m \u001b[38;5;124m'\u001b[39m\u001b[38;5;124mCV_plus\u001b[39m\u001b[38;5;124m'\u001b[39m):\n\u001b[0;32m    559\u001b[0m     probs\u001b[38;5;241m.\u001b[39mappend(prob_by_pred_dists(PDs_itrial, y_pred_lower, y_pred_upper, test_pt, \u001b[38;5;124m'\u001b[39m\u001b[38;5;124mCV+_sorted\u001b[39m\u001b[38;5;124m'\u001b[39m))\n",
      "File \u001b[1;32m~\\OneDrive - Munich Re\\Documents - Insure AI\\3 - Research and Knowledge\\Code\\JAWS_experiments_Sukrita\\Experiment 1\\helper_fns.py:493\u001b[0m, in \u001b[0;36mprob_interval_JAW\u001b[1;34m(PDs_itrial, y_pred_lower, y_pred_upper, test_pt, method)\u001b[0m\n\u001b[0;32m    490\u001b[0m n \u001b[38;5;241m=\u001b[39m \u001b[38;5;28mlen\u001b[39m(train_scores_lower) \u001b[38;5;241m-\u001b[39m \u001b[38;5;241m1\u001b[39m\n\u001b[0;32m    492\u001b[0m \u001b[38;5;66;03m### Add infty\u001b[39;00m\n\u001b[1;32m--> 493\u001b[0m weights\u001b[38;5;241m.\u001b[39mappend(\u001b[38;5;28;43mfloat\u001b[39;49m\u001b[43m(\u001b[49m\u001b[43mPDs_itrial\u001b[49m\u001b[43m[\u001b[49m\u001b[43mPDs_itrial\u001b[49m\u001b[43m[\u001b[49m\u001b[38;5;124;43m'\u001b[39;49m\u001b[38;5;124;43mmethod\u001b[39;49m\u001b[38;5;124;43m'\u001b[39;49m\u001b[43m]\u001b[49m\u001b[43m \u001b[49m\u001b[38;5;241;43m==\u001b[39;49m\u001b[43m \u001b[49m\u001b[38;5;28;43mstr\u001b[39;49m\u001b[43m(\u001b[49m\u001b[43mweights_to_use\u001b[49m\u001b[43m \u001b[49m\u001b[38;5;241;43m+\u001b[39;49m\u001b[43m \u001b[49m\u001b[38;5;124;43m'\u001b[39;49m\u001b[38;5;124;43mtest\u001b[39;49m\u001b[38;5;124;43m'\u001b[39;49m\u001b[43m)\u001b[49m\u001b[43m]\u001b[49m\u001b[43m[\u001b[49m\u001b[38;5;124;43m'\u001b[39;49m\u001b[38;5;124;43mlower\u001b[39;49m\u001b[38;5;124;43m'\u001b[39;49m\u001b[43m \u001b[49m\u001b[38;5;241;43m+\u001b[39;49m\u001b[43m \u001b[49m\u001b[38;5;28;43mstr\u001b[39;49m\u001b[43m(\u001b[49m\u001b[43mtest_pt\u001b[49m\u001b[43m)\u001b[49m\u001b[43m]\u001b[49m\u001b[43m)\u001b[49m)\n\u001b[0;32m    494\u001b[0m positive_infinity \u001b[38;5;241m=\u001b[39m \u001b[38;5;28mfloat\u001b[39m(\u001b[38;5;124m'\u001b[39m\u001b[38;5;124minf\u001b[39m\u001b[38;5;124m'\u001b[39m)\n\u001b[0;32m    495\u001b[0m train_scores_lower\u001b[38;5;241m.\u001b[39mappend(\u001b[38;5;241m-\u001b[39mpositive_infinity)\n",
      "File \u001b[1;32mC:\\Program Files (x86)\\conda3_2022\\lib\\site-packages\\pandas\\core\\series.py:191\u001b[0m, in \u001b[0;36m_coerce_method.<locals>.wrapper\u001b[1;34m(self)\u001b[0m\n\u001b[0;32m    189\u001b[0m \u001b[38;5;28;01mif\u001b[39;00m \u001b[38;5;28mlen\u001b[39m(\u001b[38;5;28mself\u001b[39m) \u001b[38;5;241m==\u001b[39m \u001b[38;5;241m1\u001b[39m:\n\u001b[0;32m    190\u001b[0m     \u001b[38;5;28;01mreturn\u001b[39;00m converter(\u001b[38;5;28mself\u001b[39m\u001b[38;5;241m.\u001b[39miloc[\u001b[38;5;241m0\u001b[39m])\n\u001b[1;32m--> 191\u001b[0m \u001b[38;5;28;01mraise\u001b[39;00m \u001b[38;5;167;01mTypeError\u001b[39;00m(\u001b[38;5;124mf\u001b[39m\u001b[38;5;124m\"\u001b[39m\u001b[38;5;124mcannot convert the series to \u001b[39m\u001b[38;5;132;01m{\u001b[39;00mconverter\u001b[38;5;132;01m}\u001b[39;00m\u001b[38;5;124m\"\u001b[39m)\n",
      "\u001b[1;31mTypeError\u001b[0m: cannot convert the series to <class 'float'>"
     ]
    }
   ],
   "source": [
    "Res_all = pd.read_csv(dataset + filler + model + '_' + str(ntrial) + 'Trial'  +'_Res.csv')\n",
    "PDs_all = pd.read_csv(dataset + filler + model + '_' + str(ntrial) + 'Trial'  +'_PDs.csv')\n",
    "    \n"
   ]
  },
  {
   "cell_type": "code",
   "execution_count": null,
   "id": "77b0bb0d-9813-4c20-9049-080fc9189652",
   "metadata": {},
   "outputs": [],
   "source": [
    "cv_plus_fn = pd.read_csv(dataset + filler + 'Threshold_type_' + str(threshold_type) + '/' + \\\n",
    "                            model + '/JAWS_coverage_by_trial/CV_plus.csv', index_col=0)\n",
    "\n",
    "split_fn = pd.read_csv(dataset + filler + 'Threshold_type_' + str(threshold_type) + '/' + \\\n",
    "                            model + '/JAWS_coverage_by_trial/split.csv', index_col=0)\n",
    "\n",
    "mean_coverage_by_trial = pd.DataFrame([cv_plus_fn.mean(axis = 1).values, \\\n",
    "                                       split_fn.mean(axis = 1).values]).T.rename(columns = \\\n",
    "                {0:'CV+', 1 :'Split'})\n",
    "\n",
    "true_prob_fn = pd.read_csv(dataset + filler + 'Threshold_type_' + str(threshold_type) + '/' + \\\n",
    "                                model + '/JAWS_coverage_by_trial/true_prob.csv', index_col=0)\n",
    "            \n",
    "mean_coverage_by_trial['True Probability'] = true_prob_fn.mean(axis = 1).values \n",
    "\n",
    "mean_coverage_by_trial.to_csv(dataset + filler + 'Threshold_type_' + str(threshold_type) + '/' + \\\n",
    "                                model + '/JAWS_coverage_by_trial/mean_coverage.csv',index=False)"
   ]
  },
  {
   "cell_type": "markdown",
   "id": "8e74b80a-9957-455d-93bc-c69bb8004b2d",
   "metadata": {},
   "source": [
    "### Load in estimates"
   ]
  },
  {
   "cell_type": "code",
   "execution_count": null,
   "id": "d7fbbd93-293c-442f-b89c-150737919503",
   "metadata": {},
   "outputs": [],
   "source": [
    "PDs_all = pd.read_csv(dataset + filler + model + '_' + str(ntrial) + 'Trial'  +'_PDs.csv')\n",
    "# PDs_all.iloc[:,5:] = Pds_all.iloc[:,5:]*y_scale_factor[0] + y_mean[0]\n",
    "# PDs_all.to_csv(dataset + filler + model + '_' + str(ntrial) + 'Trial' +'_PDs.csv', index = False)"
   ]
  },
  {
   "cell_type": "code",
   "execution_count": null,
   "id": "9b649e18-3861-4083-8693-35d5f4ee9781",
   "metadata": {},
   "outputs": [],
   "source": [
    "Y_pred_by_trial = pd.read_csv(dataset + '/No_bias/sim_data_size_1000/GPR_' + str(ntrial) + 'Trial_' + 'Preds.csv')\n",
    "sigma_pred_by_trial = pd.read_csv(dataset + '/No_bias/sim_data_size_1000/GPR_' + str(ntrial) + 'Trial_' + 'Sigmas.csv')\n",
    "GPR_mean_prob = np.mean(2*norm.cdf(tau/sigma_pred_by_trial)-1, axis = 1)\n",
    "# GPR_mean_prob = pd.DataFrame(GPR_mean_prob).rename(columns = {0:'value'})\n",
    "# GPR_mean_prob['model'] = 'GPR'\n",
    "# GPR_mean_prob['Legend'] = ''"
   ]
  },
  {
   "cell_type": "code",
   "execution_count": null,
   "id": "9b9fa8c5-64f0-4b5c-aa44-8523178b982d",
   "metadata": {},
   "outputs": [],
   "source": [
    "mean_coverage_by_trial = pd.read_csv(dataset + filler + 'Threshold_type_' + str(threshold_type) + '/' + \\\n",
    "                                model + '/JAWS_coverage_by_trial/mean_coverage.csv')"
   ]
  },
  {
   "cell_type": "code",
   "execution_count": null,
   "id": "6024a32c-1e12-4eba-82e0-e3a69250003a",
   "metadata": {},
   "outputs": [],
   "source": [
    "Y_pred_by_trial == PDs_all[PDs_all['method'] == 'muh_vals_testpoint'].iloc[:,5:(5 + n_test)].reset_index(drop = True)"
   ]
  },
  {
   "cell_type": "code",
   "execution_count": null,
   "id": "9f714ddb-d9c4-4fa9-90b8-c09cb82a561b",
   "metadata": {
    "tags": []
   },
   "outputs": [],
   "source": []
  },
  {
   "cell_type": "code",
   "execution_count": null,
   "id": "ebce6a33-e6ba-46de-919e-c73a11c7635e",
   "metadata": {},
   "outputs": [],
   "source": []
  },
  {
   "cell_type": "code",
   "execution_count": null,
   "id": "1decbf5c-d2ae-4148-9c02-b3ba430f7e8d",
   "metadata": {},
   "outputs": [],
   "source": [
    "mean_coverage_by_trial['GPR'] = GPR_mean_prob"
   ]
  },
  {
   "cell_type": "code",
   "execution_count": null,
   "id": "02e5699d-46a0-4581-938a-01938670610b",
   "metadata": {},
   "outputs": [],
   "source": [
    "sns.boxplot(data = mean_coverage_by_trial)"
   ]
  },
  {
   "cell_type": "code",
   "execution_count": null,
   "id": "fddbe0bc-16c1-46c3-bd10-463a8b271c23",
   "metadata": {},
   "outputs": [],
   "source": [
    "for i in range(len(mean_coverage_by_trial.columns)):\n",
    "        plt.hist(mean_coverage_by_trial.iloc[:,i],  \n",
    "                 alpha = 0.5, \n",
    "                 label = mean_coverage_by_trial.columns[i] )\n",
    "plt.legend(loc = 'upper left')\n",
    "plt.savefig(dataset + filler + 'Threshold_type_' + str(threshold_type) + '/' + \\\n",
    "                                model +  '/plots/JAWS_mean_results_' + dataset +'.png')\n",
    "plt.clf()"
   ]
  }
 ],
 "metadata": {
  "kernelspec": {
   "display_name": "Python 3 (ipykernel)",
   "language": "python",
   "name": "python3"
  },
  "language_info": {
   "codemirror_mode": {
    "name": "ipython",
    "version": 3
   },
   "file_extension": ".py",
   "mimetype": "text/x-python",
   "name": "python",
   "nbconvert_exporter": "python",
   "pygments_lexer": "ipython3",
   "version": "3.9.12"
  }
 },
 "nbformat": 4,
 "nbformat_minor": 5
}
