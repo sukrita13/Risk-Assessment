{
 "cells": [
  {
   "cell_type": "markdown",
   "metadata": {
    "_cell_guid": "a239913a-b27f-15e7-8911-53b62bf41c4e"
   },
   "source": [
    "### Import packages"
   ]
  },
  {
   "cell_type": "code",
   "execution_count": 1,
   "metadata": {},
   "outputs": [],
   "source": [
    "from helper_fns import *"
   ]
  },
  {
   "cell_type": "code",
   "execution_count": 2,
   "metadata": {
    "_cell_guid": "029ecde6-086d-7a8e-de44-363a7a23dbd8"
   },
   "outputs": [],
   "source": [
    "import pandas as pd\n",
    "import matplotlib.pyplot as plt\n",
    "import numpy as np\n",
    "import random\n",
    "import seaborn as sns\n",
    "\n",
    "from sklearn.preprocessing import StandardScaler\n",
    "from sklearn.model_selection import train_test_split\n",
    "from sklearn.linear_model import LogisticRegression\n",
    "from sklearn.model_selection import GridSearchCV\n",
    "from sklearn.metrics import confusion_matrix, roc_curve, roc_auc_score, auc\n",
    "\n",
    "from scipy.optimize import minimize, brentq"
   ]
  },
  {
   "cell_type": "code",
   "execution_count": 3,
   "metadata": {},
   "outputs": [],
   "source": [
    "seed = 12345"
   ]
  },
  {
   "cell_type": "markdown",
   "metadata": {
    "_cell_guid": "b4de5f93-d467-ad7d-4597-03d5f3e89f86"
   },
   "source": [
    "### Load dataset"
   ]
  },
  {
   "cell_type": "code",
   "execution_count": 4,
   "metadata": {
    "_cell_guid": "7e5ca1e3-3597-19d2-b4be-dffd335df630"
   },
   "outputs": [],
   "source": [
    "fraud_data = pd.read_csv(\"data/Fraud_detection/creditcard.csv\")"
   ]
  },
  {
   "cell_type": "markdown",
   "metadata": {
    "_cell_guid": "6268bbd8-6de5-2389-5693-ecd9a14872d4",
    "tags": []
   },
   "source": [
    "### Data processing"
   ]
  },
  {
   "cell_type": "code",
   "execution_count": 5,
   "metadata": {
    "_cell_guid": "3f6e6674-12e9-6983-5788-5755f80c7ec2"
   },
   "outputs": [
    {
     "data": {
      "text/plain": [
       "Text(0, 0.5, 'Frequency')"
      ]
     },
     "execution_count": 5,
     "metadata": {},
     "output_type": "execute_result"
    },
    {
     "data": {
      "image/png": "[encoded data removed]",
      "text/plain": [
       "<Figure size 432x288 with 1 Axes>"
      ]
     },
     "metadata": {
      "needs_background": "light"
     },
     "output_type": "display_data"
    }
   ],
   "source": [
    "count_classes = pd.value_counts(fraud_data['Class'], sort = True).sort_index()\n",
    "count_classes.plot(kind = 'bar')\n",
    "plt.title(\"Fraud class histogram\")\n",
    "plt.xlabel(\"Class\")\n",
    "plt.ylabel(\"Frequency\")"
   ]
  },
  {
   "cell_type": "code",
   "execution_count": 6,
   "metadata": {
    "_cell_guid": "3fd30a6f-c0ad-5ece-943c-651cdf14d0d6"
   },
   "outputs": [],
   "source": [
    "fraud_data['normAmount'] = StandardScaler().fit_transform(np.array(fraud_data['Amount']).reshape(-1, 1))\n",
    "fraud_data = fraud_data.drop(['Time','Amount'],axis=1)"
   ]
  },
  {
   "cell_type": "code",
   "execution_count": 7,
   "metadata": {
    "_cell_guid": "c1d874fa-5ea5-edbb-726c-ae98c84e6120"
   },
   "outputs": [],
   "source": [
    "X = fraud_data.iloc[:, fraud_data.columns != 'Class']\n",
    "y = fraud_data.iloc[:, fraud_data.columns == 'Class']"
   ]
  },
  {
   "cell_type": "code",
   "execution_count": 8,
   "metadata": {},
   "outputs": [],
   "source": [
    "n_total = len(y)\n",
    "n_train = int(round(0.7*n_total))\n",
    "n_test = n_total - n_train"
   ]
  },
  {
   "cell_type": "code",
   "execution_count": 9,
   "metadata": {},
   "outputs": [],
   "source": [
    "n_trials = 100"
   ]
  },
  {
   "cell_type": "code",
   "execution_count": 10,
   "metadata": {},
   "outputs": [],
   "source": [
    "train_inds, test_inds = generate_data_for_trials(n_trials, n_train, n_total)"
   ]
  },
  {
   "cell_type": "code",
   "execution_count": 11,
   "metadata": {},
   "outputs": [],
   "source": [
    "def data_processing(X, y, train_inds, test_inds, trial_number):\n",
    "    \n",
    "    X_train = X.iloc[train_inds[trial_number],:]\n",
    "    y_train = y.iloc[train_inds[trial_number],:]\n",
    "    X_test = X.iloc[test_inds[trial_number],:]\n",
    "    y_test = y.iloc[test_inds[trial_number],:]\n",
    "    \n",
    "    train_data = pd.concat([X_train, y_train], axis = 'columns').reset_index(drop = True)\n",
    "    test_data = pd.concat([X_test, y_test], axis = 'columns').reset_index(drop = True)\n",
    "    \n",
    "    # Number of data points in the minority class\n",
    "    number_records_fraud = len(train_data[train_data.Class == 1])\n",
    "\n",
    "    #Picking indices of fraud and normal cases\n",
    "    fraud_indices = np.array(train_data[train_data.Class == 1].index)\n",
    "    normal_indices = train_data[train_data.Class == 0].index\n",
    "\n",
    "    # Out of the indices we picked, randomly select \"x\" number (number_records_fraud)\n",
    "    random_normal_indices = np.array(np.random.choice(normal_indices, number_records_fraud, replace = False))\n",
    "\n",
    "    # Under sample dataset\n",
    "    under_sample_indices = np.concatenate([fraud_indices,random_normal_indices])\n",
    "    random.shuffle(under_sample_indices)\n",
    "    under_sample_data = train_data.iloc[under_sample_indices,:]\n",
    "\n",
    "    X_undersample = under_sample_data.iloc[:, under_sample_data.columns != 'Class']\n",
    "    y_undersample = under_sample_data.iloc[:, under_sample_data.columns == 'Class']\n",
    "    \n",
    "    X_train_undersample, X_cal_undersample, \\\n",
    "    y_train_undersample, y_cal_undersample = train_test_split(X_undersample, y_undersample,\n",
    "                                                           test_size = 0.5, random_state = seed)\n",
    "    \n",
    "    return X_train_undersample, X_cal_undersample, y_train_undersample, y_cal_undersample, X_test, y_test"
   ]
  },
  {
   "cell_type": "code",
   "execution_count": 12,
   "metadata": {},
   "outputs": [],
   "source": [
    "X_train_undersample = []\n",
    "X_cal_undersample = []\n",
    "y_train_undersample = [] \n",
    "y_cal_undersample = []\n",
    "X_test = []\n",
    "y_test = []\n",
    "\n",
    "for i in range(n_trials):\n",
    "    temp1, temp2, temp3, temp4, temp5, temp6 = data_processing(X, y, train_inds, test_inds, i)\n",
    "    X_train_undersample.append(temp1)\n",
    "    X_cal_undersample.append(temp2)\n",
    "    y_train_undersample.append(temp3)\n",
    "    y_cal_undersample.append(temp4)\n",
    "    X_test.append(temp5)\n",
    "    y_test.append(temp6)"
   ]
  },
  {
   "cell_type": "markdown",
   "metadata": {},
   "source": [
    "### CV on undersampled data"
   ]
  },
  {
   "cell_type": "code",
   "execution_count": 13,
   "metadata": {},
   "outputs": [],
   "source": [
    "# lr = LogisticRegression(max_iter = 1000) \n",
    "\n",
    "# param_grid = {'C': [0.01, 0.1, 1, 10, 100]}\n",
    "\n",
    "# # 10-Fold Cross validation\n",
    "# grid_clf = GridSearchCV(lr, param_grid, cv = 10)\n",
    "# grid_clf.fit(X_train_undersample, y_train_undersample.values.ravel())\n",
    "\n",
    "# best_c = grid_clf.best_params_['C']\n",
    "best_c = 1"
   ]
  },
  {
   "cell_type": "markdown",
   "metadata": {},
   "source": [
    "### Model fit results"
   ]
  },
  {
   "cell_type": "code",
   "execution_count": 15,
   "metadata": {},
   "outputs": [],
   "source": [
    "def pred_results_by_trial(n_trials, best_c, X_train_undersample, X_cal_undersample, y_train_undersample, y_cal_undersample):\n",
    "\n",
    "    cal_gt_by_trial = []\n",
    "    cal_sgmd_by_trial = []\n",
    "\n",
    "    for i in tqdm.tqdm(range(n_trials)):\n",
    "        \n",
    "        lr = LogisticRegression(C = best_c)\n",
    "        lr.fit(X_train_undersample[i], y_train_undersample[i].values.ravel())\n",
    "        \n",
    "        cal_gt = y_cal_undersample[i].values.ravel()\n",
    "        cal_sgmd = lr.predict_proba(X_cal_undersample[i])\n",
    "        \n",
    "        cal_gt_by_trial.append(cal_gt)\n",
    "        cal_sgmd_by_trial.append(cal_sgmd)\n",
    "        \n",
    "    return cal_gt_by_trial, cal_sgmd_by_trial"
   ]
  },
  {
   "cell_type": "code",
   "execution_count": 14,
   "metadata": {},
   "outputs": [],
   "source": [
    "def alphahat_threshold(lam, risk_type, cal_sgmd, cal_gt, alpha): \n",
    "    \n",
    "    n = len(cal_gt)\n",
    "    \n",
    "    filtered_indices = [np.where(row > lam)[0] for row in cal_sgmd]\n",
    "    \n",
    "    if (risk_type == 'FNR'):\n",
    "        label = 1\n",
    "    elif (risk_type == 'FPR'): \n",
    "        label = 0\n",
    "    else:\n",
    "        print('undefined risk type')\n",
    "    \n",
    "    flag = []\n",
    "    for i in range(n):\n",
    "        flag.append(np.logical_and(cal_gt[i] not in filtered_indices[i], cal_gt[i] == label))\n",
    "        \n",
    "    risk = sum(flag)/len(cal_gt[cal_gt == label])\n",
    "    risk_metric = risk - ((n+1)/n*alpha - 1/(n+1))\n",
    "    \n",
    "    return risk_metric"
   ]
  },
  {
   "cell_type": "code",
   "execution_count": 17,
   "metadata": {},
   "outputs": [],
   "source": [
    "def risk_by_lambda(lam, cal_sgmd_by_trial, cal_gt_by_trial):\n",
    "    \n",
    "    FNR = []\n",
    "    FPR = []\n",
    "\n",
    "    for i in range(n_trials):\n",
    "        FNR.append(brentq(lambda alpha: alphahat_threshold(lam, 'FNR', cal_sgmd_by_trial[i], cal_gt_by_trial[i], alpha), 0, 1))\n",
    "        FPR.append(brentq(lambda alpha: alphahat_threshold(lam, 'FPR' ,cal_sgmd_by_trial[i], cal_gt_by_trial[i], alpha), 0, 1))\n",
    "\n",
    "    return FNR, FPR"
   ]
  },
  {
   "cell_type": "code",
   "execution_count": 18,
   "metadata": {},
   "outputs": [],
   "source": [
    "def set_size_by_threshold(lam, cal_sgmd_by_trial): \n",
    "    \n",
    "    set_size_by_trial = []\n",
    "    \n",
    "    for i in range(n_trials):\n",
    "        \n",
    "        filtered_indices = [np.where(row > lam)[0] for row in cal_sgmd_by_trial[i]]\n",
    "        set_size = [len(set) for set in filtered_indices]\n",
    "        set_size_by_trial.append(sum([set_size_entry == 2 for set_size_entry in set_size]))\n",
    "    \n",
    "    return np.mean(set_size_by_trial)"
   ]
  },
  {
   "cell_type": "code",
   "execution_count": 16,
   "metadata": {},
   "outputs": [
    {
     "name": "stderr",
     "output_type": "stream",
     "text": [
      "100%|████████████████████████████████████████████████████████████████████████████████| 100/100 [00:01<00:00, 77.34it/s]\n"
     ]
    }
   ],
   "source": [
    "cal_gt_by_trial, cal_sgmd_by_trial = pred_results_by_trial(\\\n",
    "                                        n_trials, best_c, X_train_undersample, X_cal_undersample, \\\n",
    "                                                            y_train_undersample, y_cal_undersample)"
   ]
  },
  {
   "cell_type": "code",
   "execution_count": 20,
   "metadata": {},
   "outputs": [],
   "source": [
    "N = 11\n",
    "lam_space = np.linspace(0, 1, N) \n",
    "\n",
    "set_size_by_lam = []\n",
    "FNR_by_lam = []\n",
    "FPR_by_lam = []\n",
    "    \n",
    "for i in range(N):\n",
    "    set_size_by_lam.append(set_size_by_threshold(lam_space[i], cal_sgmd_by_trial))\n",
    "    temp1, temp2 = risk_by_lambda(lam_space[i], cal_sgmd_by_trial, cal_gt_by_trial)\n",
    "    FNR_by_lam.append(temp1)\n",
    "    FPR_by_lam.append(temp2)"
   ]
  },
  {
   "cell_type": "code",
   "execution_count": 69,
   "metadata": {},
   "outputs": [],
   "source": [
    "default_index = int(np.where(lam_space == 0.5)[0])\n",
    "\n",
    "FNR = FNR_by_lam[default_index]\n",
    "FPR = FPR_by_lam[default_index]"
   ]
  },
  {
   "cell_type": "code",
   "execution_count": 79,
   "metadata": {},
   "outputs": [],
   "source": [
    "def risk_rate_by_type(FNR, FPR):\n",
    "    \n",
    "    risk_data = pd.DataFrame([FNR, FPR]).T.rename(columns = {0: 'FNR', 1: 'FPR'})\n",
    "    \n",
    "    sns.boxplot(x = \"variable\", \n",
    "                y = \"value\",\n",
    "                data = pd.melt(risk_data),\n",
    "                color = \"steelblue\")\n",
    "    \n",
    "    plt.ylabel('Error rate')\n",
    "    plt.xlabel('Risk type')\n",
    "    plt.title('Error rate by risk type')\n",
    "\n",
    "    plt.savefig('error_rate_by_type.png')\n",
    "    \n",
    "    return None"
   ]
  },
  {
   "cell_type": "code",
   "execution_count": 80,
   "metadata": {},
   "outputs": [
    {
     "data": {
      "image/png": "[encoded data removed]",
      "text/plain": [
       "<Figure size 432x288 with 1 Axes>"
      ]
     },
     "metadata": {
      "needs_background": "light"
     },
     "output_type": "display_data"
    }
   ],
   "source": [
    "risk_rate_by_type(FNR, FPR)"
   ]
  },
  {
   "cell_type": "code",
   "execution_count": 46,
   "metadata": {},
   "outputs": [],
   "source": [
    "def risk_rate_by_threshold(error_type, FNR_by_lam, FPR_by_lam):\n",
    "    \n",
    "    index_set = {0:'0.0', 1:'0.1', 2:'0.2', 3:'0.3',  4:'0.4', 5:'0.5', \n",
    "                    6:'0.6', 7:'0.7', 8:'0.8', 9:'0.9',  10:'1.0'}\n",
    "    \n",
    "    risk_data = pd.DataFrame(eval(error_type + '_by_lam')).T.rename(columns = index_set)\n",
    "    risk_data = risk_data[risk_data.columns[1:10]]\n",
    "    \n",
    "    sns.boxplot(x = \"variable\", \n",
    "                y = \"value\",\n",
    "                data = pd.melt(risk_data),\n",
    "                color = \"steelblue\")\n",
    "    \n",
    "    plt.ylabel(error_type)\n",
    "    plt.xlabel('Threshold')\n",
    "    plt.ylim([0, 0.4])\n",
    "    plt.title(error_type + ' by threshold')\n",
    "\n",
    "    plt.savefig(error_type + '_by_threshold.png')\n",
    "    \n",
    "    return None"
   ]
  },
  {
   "cell_type": "code",
   "execution_count": 47,
   "metadata": {},
   "outputs": [
    {
     "data": {
      "image/png": "[encoded data removed]",
      "text/plain": [
       "<Figure size 432x288 with 1 Axes>"
      ]
     },
     "metadata": {
      "needs_background": "light"
     },
     "output_type": "display_data"
    }
   ],
   "source": [
    "risk_rate_by_threshold('FNR', FNR_by_lam, FPR_by_lam)"
   ]
  },
  {
   "cell_type": "code",
   "execution_count": 48,
   "metadata": {},
   "outputs": [
    {
     "data": {
      "image/png": "[encoded data removed]",
      "text/plain": [
       "<Figure size 432x288 with 1 Axes>"
      ]
     },
     "metadata": {
      "needs_background": "light"
     },
     "output_type": "display_data"
    }
   ],
   "source": [
    "risk_rate_by_threshold('FPR', FPR_by_lam, FPR_by_lam)"
   ]
  },
  {
   "cell_type": "code",
   "execution_count": 49,
   "metadata": {},
   "outputs": [],
   "source": [
    "avg_FNR_by_lam = np.mean(np.array(FNR_by_lam), axis = 1)\n",
    "avg_FPR_by_lam = np.mean(np.array(FPR_by_lam), axis = 1)"
   ]
  }
 ],
 "metadata": {
  "_change_revision": 4,
  "_is_fork": false,
  "kernelspec": {
   "display_name": "Python 3 (ipykernel)",
   "language": "python",
   "name": "python3"
  },
  "language_info": {
   "codemirror_mode": {
    "name": "ipython",
    "version": 3
   },
   "file_extension": ".py",
   "mimetype": "text/x-python",
   "name": "python",
   "nbconvert_exporter": "python",
   "pygments_lexer": "ipython3",
   "version": "3.9.12"
  }
 },
 "nbformat": 4,
 "nbformat_minor": 4
}
